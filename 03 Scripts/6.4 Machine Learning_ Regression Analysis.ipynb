{
 "cells": [
  {
   "cell_type": "markdown",
   "id": "85899afc",
   "metadata": {},
   "source": [
    "# Tasks\n",
    "\n",
    "#### 2: Import the libraries you need into a new notebook, including any necessary modules from scikit-learn.\n",
    "\n",
    "#### 3: Clean your data so that it’s ready for analysis.\n",
    "\n",
    "#### 4: Explore your data visually (e.g., by way of a scatterplot), looking for variables whose relationship you’d like to test.\n",
    "\n",
    "#### 5: State your hypothesis in a markdown cell within your Jupyter notebook.\n",
    "\n",
    "#### 6: Reshape the variables into NumPy arrays, with X being the independent variable and y being the dependent variable.\n",
    "\n",
    "#### 7: Split the data into two sets: a training set and a test set.\n",
    "\n",
    "#### 8: Run a linear regression on the data.\n",
    "\n",
    "- First, fit the model you created to the training set.\n",
    "- Then, create a prediction for y on the test set.\n",
    "\n",
    "#### 9: Create a plot that shows the regression line on the test set.\n",
    "\n",
    "#### 10: Write your own interpretation of how well the line appears to fit the data in a markdown cell.\n",
    "\n",
    "#### 11: Check the model performance statistics—MSE and R2 score.\n",
    "\n",
    "#### 12: Compare the predicted y values with the actual y values in a dataframe.\n",
    "\n",
    "#### 13: Include your thoughts on how well the model performed on the test set in a markdown cell.\n",
    "\n",
    "- Include any reflections you have on the impact of possible data bias.\n"
   ]
  },
  {
   "cell_type": "markdown",
   "id": "54528e43",
   "metadata": {},
   "source": [
    "# Import Libraries"
   ]
  },
  {
   "cell_type": "markdown",
   "id": "53f838f8",
   "metadata": {},
   "source": [
    "#### 2: Import the libraries you need into a new notebook, including any necessary modules from scikit-learn."
   ]
  },
  {
   "cell_type": "code",
   "execution_count": 1,
   "id": "fe78a9a8",
   "metadata": {},
   "outputs": [],
   "source": [
    "import pandas as pd\n",
    "import numpy as np\n",
    "import seaborn as sns\n",
    "import matplotlib\n",
    "import matplotlib.pyplot as plt\n",
    "import os\n",
    "import sklearn\n",
    "from sklearn.model_selection import train_test_split \n",
    "from sklearn.linear_model import LinearRegression\n",
    "from sklearn.metrics import mean_squared_error, r2_score"
   ]
  },
  {
   "cell_type": "markdown",
   "id": "247eea74",
   "metadata": {},
   "source": [
    "# Import Data"
   ]
  },
  {
   "cell_type": "code",
   "execution_count": 2,
   "id": "95bf4ae8",
   "metadata": {},
   "outputs": [],
   "source": [
    "path = r'C:\\Users\\maxca\\Part 6 Gun Violence'"
   ]
  },
  {
   "cell_type": "code",
   "execution_count": 3,
   "id": "d6511d6d",
   "metadata": {},
   "outputs": [],
   "source": [
    "df = pd.read_csv(os.path.join(path,'02 Data','Prepared Data','df_gunviolence_cleand_2.csv'))"
   ]
  },
  {
   "cell_type": "markdown",
   "id": "8732e8cc",
   "metadata": {},
   "source": [
    "# Cleaning Data"
   ]
  },
  {
   "cell_type": "markdown",
   "id": "42a7ba22",
   "metadata": {},
   "source": [
    "#### 3: Clean your data so that it’s ready for analysis."
   ]
  },
  {
   "cell_type": "code",
   "execution_count": 4,
   "id": "c33985c2",
   "metadata": {},
   "outputs": [
    {
     "data": {
      "text/html": [
       "<div>\n",
       "<style scoped>\n",
       "    .dataframe tbody tr th:only-of-type {\n",
       "        vertical-align: middle;\n",
       "    }\n",
       "\n",
       "    .dataframe tbody tr th {\n",
       "        vertical-align: top;\n",
       "    }\n",
       "\n",
       "    .dataframe thead th {\n",
       "        text-align: right;\n",
       "    }\n",
       "</style>\n",
       "<table border=\"1\" class=\"dataframe\">\n",
       "  <thead>\n",
       "    <tr style=\"text-align: right;\">\n",
       "      <th></th>\n",
       "      <th>Unnamed: 0</th>\n",
       "      <th>incident_id</th>\n",
       "      <th>date</th>\n",
       "      <th>state</th>\n",
       "      <th>city_or_county</th>\n",
       "      <th>n_killed</th>\n",
       "      <th>n_injured</th>\n",
       "      <th>incident_characteristics</th>\n",
       "      <th>latitude</th>\n",
       "      <th>location_description</th>\n",
       "      <th>longitude</th>\n",
       "      <th>n_guns_involved</th>\n",
       "      <th>year</th>\n",
       "      <th>state_year</th>\n",
       "      <th>lawtotal</th>\n",
       "      <th>Total population</th>\n",
       "    </tr>\n",
       "  </thead>\n",
       "  <tbody>\n",
       "    <tr>\n",
       "      <th>0</th>\n",
       "      <td>0</td>\n",
       "      <td>95289</td>\n",
       "      <td>2014-01-01</td>\n",
       "      <td>Michigan</td>\n",
       "      <td>Muskegon</td>\n",
       "      <td>0</td>\n",
       "      <td>0</td>\n",
       "      <td>Shots Fired - No Injuries</td>\n",
       "      <td>43.2301</td>\n",
       "      <td>NaN</td>\n",
       "      <td>-86.2514</td>\n",
       "      <td>1.372442</td>\n",
       "      <td>2014-01-01</td>\n",
       "      <td>Michigan2014</td>\n",
       "      <td>20</td>\n",
       "      <td>9747730</td>\n",
       "    </tr>\n",
       "    <tr>\n",
       "      <th>1</th>\n",
       "      <td>1</td>\n",
       "      <td>92607</td>\n",
       "      <td>2014-01-01</td>\n",
       "      <td>Michigan</td>\n",
       "      <td>Detroit</td>\n",
       "      <td>0</td>\n",
       "      <td>1</td>\n",
       "      <td>Shot - Wounded/Injured</td>\n",
       "      <td>42.4142</td>\n",
       "      <td>NaN</td>\n",
       "      <td>-82.9582</td>\n",
       "      <td>1.372442</td>\n",
       "      <td>2014-01-01</td>\n",
       "      <td>Michigan2014</td>\n",
       "      <td>20</td>\n",
       "      <td>9747730</td>\n",
       "    </tr>\n",
       "    <tr>\n",
       "      <th>2</th>\n",
       "      <td>2</td>\n",
       "      <td>92602</td>\n",
       "      <td>2014-01-01</td>\n",
       "      <td>Michigan</td>\n",
       "      <td>Detroit</td>\n",
       "      <td>2</td>\n",
       "      <td>2</td>\n",
       "      <td>Shot - Wounded/Injured||Shot - Dead (murder, a...</td>\n",
       "      <td>42.3484</td>\n",
       "      <td>NaN</td>\n",
       "      <td>-83.0597</td>\n",
       "      <td>1.372442</td>\n",
       "      <td>2014-01-01</td>\n",
       "      <td>Michigan2014</td>\n",
       "      <td>20</td>\n",
       "      <td>9747730</td>\n",
       "    </tr>\n",
       "    <tr>\n",
       "      <th>3</th>\n",
       "      <td>3</td>\n",
       "      <td>92620</td>\n",
       "      <td>2014-01-01</td>\n",
       "      <td>Michigan</td>\n",
       "      <td>Detroit</td>\n",
       "      <td>0</td>\n",
       "      <td>2</td>\n",
       "      <td>Shot - Wounded/Injured||Brandishing/flourishin...</td>\n",
       "      <td>42.3756</td>\n",
       "      <td>NaN</td>\n",
       "      <td>-83.0643</td>\n",
       "      <td>1.372442</td>\n",
       "      <td>2014-01-01</td>\n",
       "      <td>Michigan2014</td>\n",
       "      <td>20</td>\n",
       "      <td>9747730</td>\n",
       "    </tr>\n",
       "    <tr>\n",
       "      <th>4</th>\n",
       "      <td>4</td>\n",
       "      <td>92612</td>\n",
       "      <td>2014-01-01</td>\n",
       "      <td>Michigan</td>\n",
       "      <td>Detroit</td>\n",
       "      <td>0</td>\n",
       "      <td>1</td>\n",
       "      <td>Shot - Wounded/Injured</td>\n",
       "      <td>42.3727</td>\n",
       "      <td>NaN</td>\n",
       "      <td>-83.1921</td>\n",
       "      <td>1.372442</td>\n",
       "      <td>2014-01-01</td>\n",
       "      <td>Michigan2014</td>\n",
       "      <td>20</td>\n",
       "      <td>9747730</td>\n",
       "    </tr>\n",
       "  </tbody>\n",
       "</table>\n",
       "</div>"
      ],
      "text/plain": [
       "   Unnamed: 0  incident_id        date     state city_or_county  n_killed  \\\n",
       "0           0        95289  2014-01-01  Michigan       Muskegon         0   \n",
       "1           1        92607  2014-01-01  Michigan        Detroit         0   \n",
       "2           2        92602  2014-01-01  Michigan        Detroit         2   \n",
       "3           3        92620  2014-01-01  Michigan        Detroit         0   \n",
       "4           4        92612  2014-01-01  Michigan        Detroit         0   \n",
       "\n",
       "   n_injured                           incident_characteristics  latitude  \\\n",
       "0          0                          Shots Fired - No Injuries   43.2301   \n",
       "1          1                             Shot - Wounded/Injured   42.4142   \n",
       "2          2  Shot - Wounded/Injured||Shot - Dead (murder, a...   42.3484   \n",
       "3          2  Shot - Wounded/Injured||Brandishing/flourishin...   42.3756   \n",
       "4          1                             Shot - Wounded/Injured   42.3727   \n",
       "\n",
       "  location_description  longitude  n_guns_involved        year    state_year  \\\n",
       "0                  NaN   -86.2514         1.372442  2014-01-01  Michigan2014   \n",
       "1                  NaN   -82.9582         1.372442  2014-01-01  Michigan2014   \n",
       "2                  NaN   -83.0597         1.372442  2014-01-01  Michigan2014   \n",
       "3                  NaN   -83.0643         1.372442  2014-01-01  Michigan2014   \n",
       "4                  NaN   -83.1921         1.372442  2014-01-01  Michigan2014   \n",
       "\n",
       "   lawtotal  Total population  \n",
       "0        20           9747730  \n",
       "1        20           9747730  \n",
       "2        20           9747730  \n",
       "3        20           9747730  \n",
       "4        20           9747730  "
      ]
     },
     "execution_count": 4,
     "metadata": {},
     "output_type": "execute_result"
    }
   ],
   "source": [
    "df.head()"
   ]
  },
  {
   "cell_type": "code",
   "execution_count": 5,
   "id": "81e4ee40",
   "metadata": {},
   "outputs": [],
   "source": [
    "df = df.drop(columns =['Unnamed: 0'])"
   ]
  },
  {
   "cell_type": "markdown",
   "id": "99d18661",
   "metadata": {},
   "source": [
    "# Isolating Year"
   ]
  },
  {
   "cell_type": "code",
   "execution_count": 6,
   "id": "ec73758a",
   "metadata": {},
   "outputs": [
    {
     "data": {
      "text/html": [
       "<div>\n",
       "<style scoped>\n",
       "    .dataframe tbody tr th:only-of-type {\n",
       "        vertical-align: middle;\n",
       "    }\n",
       "\n",
       "    .dataframe tbody tr th {\n",
       "        vertical-align: top;\n",
       "    }\n",
       "\n",
       "    .dataframe thead th {\n",
       "        text-align: right;\n",
       "    }\n",
       "</style>\n",
       "<table border=\"1\" class=\"dataframe\">\n",
       "  <thead>\n",
       "    <tr style=\"text-align: right;\">\n",
       "      <th></th>\n",
       "      <th>incident_id</th>\n",
       "      <th>date</th>\n",
       "      <th>state</th>\n",
       "      <th>city_or_county</th>\n",
       "      <th>n_killed</th>\n",
       "      <th>n_injured</th>\n",
       "      <th>incident_characteristics</th>\n",
       "      <th>latitude</th>\n",
       "      <th>location_description</th>\n",
       "      <th>longitude</th>\n",
       "      <th>n_guns_involved</th>\n",
       "      <th>year</th>\n",
       "      <th>state_year</th>\n",
       "      <th>lawtotal</th>\n",
       "      <th>Total population</th>\n",
       "      <th>day</th>\n",
       "      <th>month</th>\n",
       "    </tr>\n",
       "  </thead>\n",
       "  <tbody>\n",
       "    <tr>\n",
       "      <th>0</th>\n",
       "      <td>95289</td>\n",
       "      <td>2014-01-01</td>\n",
       "      <td>Michigan</td>\n",
       "      <td>Muskegon</td>\n",
       "      <td>0</td>\n",
       "      <td>0</td>\n",
       "      <td>Shots Fired - No Injuries</td>\n",
       "      <td>43.2301</td>\n",
       "      <td>NaN</td>\n",
       "      <td>-86.2514</td>\n",
       "      <td>1.372442</td>\n",
       "      <td>2014</td>\n",
       "      <td>Michigan2014</td>\n",
       "      <td>20</td>\n",
       "      <td>9747730</td>\n",
       "      <td>1</td>\n",
       "      <td>1</td>\n",
       "    </tr>\n",
       "    <tr>\n",
       "      <th>1</th>\n",
       "      <td>92607</td>\n",
       "      <td>2014-01-01</td>\n",
       "      <td>Michigan</td>\n",
       "      <td>Detroit</td>\n",
       "      <td>0</td>\n",
       "      <td>1</td>\n",
       "      <td>Shot - Wounded/Injured</td>\n",
       "      <td>42.4142</td>\n",
       "      <td>NaN</td>\n",
       "      <td>-82.9582</td>\n",
       "      <td>1.372442</td>\n",
       "      <td>2014</td>\n",
       "      <td>Michigan2014</td>\n",
       "      <td>20</td>\n",
       "      <td>9747730</td>\n",
       "      <td>1</td>\n",
       "      <td>1</td>\n",
       "    </tr>\n",
       "    <tr>\n",
       "      <th>2</th>\n",
       "      <td>92602</td>\n",
       "      <td>2014-01-01</td>\n",
       "      <td>Michigan</td>\n",
       "      <td>Detroit</td>\n",
       "      <td>2</td>\n",
       "      <td>2</td>\n",
       "      <td>Shot - Wounded/Injured||Shot - Dead (murder, a...</td>\n",
       "      <td>42.3484</td>\n",
       "      <td>NaN</td>\n",
       "      <td>-83.0597</td>\n",
       "      <td>1.372442</td>\n",
       "      <td>2014</td>\n",
       "      <td>Michigan2014</td>\n",
       "      <td>20</td>\n",
       "      <td>9747730</td>\n",
       "      <td>1</td>\n",
       "      <td>1</td>\n",
       "    </tr>\n",
       "    <tr>\n",
       "      <th>3</th>\n",
       "      <td>92620</td>\n",
       "      <td>2014-01-01</td>\n",
       "      <td>Michigan</td>\n",
       "      <td>Detroit</td>\n",
       "      <td>0</td>\n",
       "      <td>2</td>\n",
       "      <td>Shot - Wounded/Injured||Brandishing/flourishin...</td>\n",
       "      <td>42.3756</td>\n",
       "      <td>NaN</td>\n",
       "      <td>-83.0643</td>\n",
       "      <td>1.372442</td>\n",
       "      <td>2014</td>\n",
       "      <td>Michigan2014</td>\n",
       "      <td>20</td>\n",
       "      <td>9747730</td>\n",
       "      <td>1</td>\n",
       "      <td>1</td>\n",
       "    </tr>\n",
       "    <tr>\n",
       "      <th>4</th>\n",
       "      <td>92612</td>\n",
       "      <td>2014-01-01</td>\n",
       "      <td>Michigan</td>\n",
       "      <td>Detroit</td>\n",
       "      <td>0</td>\n",
       "      <td>1</td>\n",
       "      <td>Shot - Wounded/Injured</td>\n",
       "      <td>42.3727</td>\n",
       "      <td>NaN</td>\n",
       "      <td>-83.1921</td>\n",
       "      <td>1.372442</td>\n",
       "      <td>2014</td>\n",
       "      <td>Michigan2014</td>\n",
       "      <td>20</td>\n",
       "      <td>9747730</td>\n",
       "      <td>1</td>\n",
       "      <td>1</td>\n",
       "    </tr>\n",
       "  </tbody>\n",
       "</table>\n",
       "</div>"
      ],
      "text/plain": [
       "   incident_id       date     state city_or_county  n_killed  n_injured  \\\n",
       "0        95289 2014-01-01  Michigan       Muskegon         0          0   \n",
       "1        92607 2014-01-01  Michigan        Detroit         0          1   \n",
       "2        92602 2014-01-01  Michigan        Detroit         2          2   \n",
       "3        92620 2014-01-01  Michigan        Detroit         0          2   \n",
       "4        92612 2014-01-01  Michigan        Detroit         0          1   \n",
       "\n",
       "                            incident_characteristics  latitude  \\\n",
       "0                          Shots Fired - No Injuries   43.2301   \n",
       "1                             Shot - Wounded/Injured   42.4142   \n",
       "2  Shot - Wounded/Injured||Shot - Dead (murder, a...   42.3484   \n",
       "3  Shot - Wounded/Injured||Brandishing/flourishin...   42.3756   \n",
       "4                             Shot - Wounded/Injured   42.3727   \n",
       "\n",
       "  location_description  longitude  n_guns_involved  year    state_year  \\\n",
       "0                  NaN   -86.2514         1.372442  2014  Michigan2014   \n",
       "1                  NaN   -82.9582         1.372442  2014  Michigan2014   \n",
       "2                  NaN   -83.0597         1.372442  2014  Michigan2014   \n",
       "3                  NaN   -83.0643         1.372442  2014  Michigan2014   \n",
       "4                  NaN   -83.1921         1.372442  2014  Michigan2014   \n",
       "\n",
       "   lawtotal  Total population  day  month  \n",
       "0        20           9747730    1      1  \n",
       "1        20           9747730    1      1  \n",
       "2        20           9747730    1      1  \n",
       "3        20           9747730    1      1  \n",
       "4        20           9747730    1      1  "
      ]
     },
     "execution_count": 6,
     "metadata": {},
     "output_type": "execute_result"
    }
   ],
   "source": [
    "# convert the date column into a datetime object\n",
    "df['date'] = pd.to_datetime(df['date'])\n",
    "\n",
    "# extract the day, month, and year components\n",
    "df['day'] = df['date'].dt.day\n",
    "df['month'] = df['date'].dt.month\n",
    "df['year'] = df['date'].dt.year\n",
    "\n",
    "# show the modified data frame\n",
    "df.head()"
   ]
  },
  {
   "cell_type": "markdown",
   "id": "978636e0",
   "metadata": {},
   "source": [
    "# Dropping day and month"
   ]
  },
  {
   "cell_type": "code",
   "execution_count": 7,
   "id": "69bc6bf5",
   "metadata": {},
   "outputs": [],
   "source": [
    "df = df.drop(columns =['day', 'month'])"
   ]
  },
  {
   "cell_type": "code",
   "execution_count": 8,
   "id": "d26a9c29",
   "metadata": {},
   "outputs": [
    {
     "data": {
      "text/html": [
       "<div>\n",
       "<style scoped>\n",
       "    .dataframe tbody tr th:only-of-type {\n",
       "        vertical-align: middle;\n",
       "    }\n",
       "\n",
       "    .dataframe tbody tr th {\n",
       "        vertical-align: top;\n",
       "    }\n",
       "\n",
       "    .dataframe thead th {\n",
       "        text-align: right;\n",
       "    }\n",
       "</style>\n",
       "<table border=\"1\" class=\"dataframe\">\n",
       "  <thead>\n",
       "    <tr style=\"text-align: right;\">\n",
       "      <th></th>\n",
       "      <th>incident_id</th>\n",
       "      <th>date</th>\n",
       "      <th>state</th>\n",
       "      <th>city_or_county</th>\n",
       "      <th>n_killed</th>\n",
       "      <th>n_injured</th>\n",
       "      <th>incident_characteristics</th>\n",
       "      <th>latitude</th>\n",
       "      <th>location_description</th>\n",
       "      <th>longitude</th>\n",
       "      <th>n_guns_involved</th>\n",
       "      <th>year</th>\n",
       "      <th>state_year</th>\n",
       "      <th>lawtotal</th>\n",
       "      <th>Total population</th>\n",
       "    </tr>\n",
       "  </thead>\n",
       "  <tbody>\n",
       "    <tr>\n",
       "      <th>0</th>\n",
       "      <td>95289</td>\n",
       "      <td>2014-01-01</td>\n",
       "      <td>Michigan</td>\n",
       "      <td>Muskegon</td>\n",
       "      <td>0</td>\n",
       "      <td>0</td>\n",
       "      <td>Shots Fired - No Injuries</td>\n",
       "      <td>43.2301</td>\n",
       "      <td>NaN</td>\n",
       "      <td>-86.2514</td>\n",
       "      <td>1.372442</td>\n",
       "      <td>2014</td>\n",
       "      <td>Michigan2014</td>\n",
       "      <td>20</td>\n",
       "      <td>9747730</td>\n",
       "    </tr>\n",
       "    <tr>\n",
       "      <th>1</th>\n",
       "      <td>92607</td>\n",
       "      <td>2014-01-01</td>\n",
       "      <td>Michigan</td>\n",
       "      <td>Detroit</td>\n",
       "      <td>0</td>\n",
       "      <td>1</td>\n",
       "      <td>Shot - Wounded/Injured</td>\n",
       "      <td>42.4142</td>\n",
       "      <td>NaN</td>\n",
       "      <td>-82.9582</td>\n",
       "      <td>1.372442</td>\n",
       "      <td>2014</td>\n",
       "      <td>Michigan2014</td>\n",
       "      <td>20</td>\n",
       "      <td>9747730</td>\n",
       "    </tr>\n",
       "    <tr>\n",
       "      <th>2</th>\n",
       "      <td>92602</td>\n",
       "      <td>2014-01-01</td>\n",
       "      <td>Michigan</td>\n",
       "      <td>Detroit</td>\n",
       "      <td>2</td>\n",
       "      <td>2</td>\n",
       "      <td>Shot - Wounded/Injured||Shot - Dead (murder, a...</td>\n",
       "      <td>42.3484</td>\n",
       "      <td>NaN</td>\n",
       "      <td>-83.0597</td>\n",
       "      <td>1.372442</td>\n",
       "      <td>2014</td>\n",
       "      <td>Michigan2014</td>\n",
       "      <td>20</td>\n",
       "      <td>9747730</td>\n",
       "    </tr>\n",
       "    <tr>\n",
       "      <th>3</th>\n",
       "      <td>92620</td>\n",
       "      <td>2014-01-01</td>\n",
       "      <td>Michigan</td>\n",
       "      <td>Detroit</td>\n",
       "      <td>0</td>\n",
       "      <td>2</td>\n",
       "      <td>Shot - Wounded/Injured||Brandishing/flourishin...</td>\n",
       "      <td>42.3756</td>\n",
       "      <td>NaN</td>\n",
       "      <td>-83.0643</td>\n",
       "      <td>1.372442</td>\n",
       "      <td>2014</td>\n",
       "      <td>Michigan2014</td>\n",
       "      <td>20</td>\n",
       "      <td>9747730</td>\n",
       "    </tr>\n",
       "    <tr>\n",
       "      <th>4</th>\n",
       "      <td>92612</td>\n",
       "      <td>2014-01-01</td>\n",
       "      <td>Michigan</td>\n",
       "      <td>Detroit</td>\n",
       "      <td>0</td>\n",
       "      <td>1</td>\n",
       "      <td>Shot - Wounded/Injured</td>\n",
       "      <td>42.3727</td>\n",
       "      <td>NaN</td>\n",
       "      <td>-83.1921</td>\n",
       "      <td>1.372442</td>\n",
       "      <td>2014</td>\n",
       "      <td>Michigan2014</td>\n",
       "      <td>20</td>\n",
       "      <td>9747730</td>\n",
       "    </tr>\n",
       "  </tbody>\n",
       "</table>\n",
       "</div>"
      ],
      "text/plain": [
       "   incident_id       date     state city_or_county  n_killed  n_injured  \\\n",
       "0        95289 2014-01-01  Michigan       Muskegon         0          0   \n",
       "1        92607 2014-01-01  Michigan        Detroit         0          1   \n",
       "2        92602 2014-01-01  Michigan        Detroit         2          2   \n",
       "3        92620 2014-01-01  Michigan        Detroit         0          2   \n",
       "4        92612 2014-01-01  Michigan        Detroit         0          1   \n",
       "\n",
       "                            incident_characteristics  latitude  \\\n",
       "0                          Shots Fired - No Injuries   43.2301   \n",
       "1                             Shot - Wounded/Injured   42.4142   \n",
       "2  Shot - Wounded/Injured||Shot - Dead (murder, a...   42.3484   \n",
       "3  Shot - Wounded/Injured||Brandishing/flourishin...   42.3756   \n",
       "4                             Shot - Wounded/Injured   42.3727   \n",
       "\n",
       "  location_description  longitude  n_guns_involved  year    state_year  \\\n",
       "0                  NaN   -86.2514         1.372442  2014  Michigan2014   \n",
       "1                  NaN   -82.9582         1.372442  2014  Michigan2014   \n",
       "2                  NaN   -83.0597         1.372442  2014  Michigan2014   \n",
       "3                  NaN   -83.0643         1.372442  2014  Michigan2014   \n",
       "4                  NaN   -83.1921         1.372442  2014  Michigan2014   \n",
       "\n",
       "   lawtotal  Total population  \n",
       "0        20           9747730  \n",
       "1        20           9747730  \n",
       "2        20           9747730  \n",
       "3        20           9747730  \n",
       "4        20           9747730  "
      ]
     },
     "execution_count": 8,
     "metadata": {},
     "output_type": "execute_result"
    }
   ],
   "source": [
    "df.head()"
   ]
  },
  {
   "cell_type": "markdown",
   "id": "f0808398",
   "metadata": {},
   "source": [
    "# Aggregating everyting in its years and state # incident_id will be incident count"
   ]
  },
  {
   "cell_type": "code",
   "execution_count": 9,
   "id": "af8ea7e8",
   "metadata": {},
   "outputs": [],
   "source": [
    "df_agg = df.groupby('state_year').aggregate({'incident_id' : 'count', 'n_killed': 'sum',\n",
    "                             'n_injured': 'sum', 'n_guns_involved' : 'sum', 'lawtotal': 'first', 'Total population' : 'first'})"
   ]
  },
  {
   "cell_type": "code",
   "execution_count": 10,
   "id": "89274621",
   "metadata": {},
   "outputs": [
    {
     "data": {
      "text/html": [
       "<div>\n",
       "<style scoped>\n",
       "    .dataframe tbody tr th:only-of-type {\n",
       "        vertical-align: middle;\n",
       "    }\n",
       "\n",
       "    .dataframe tbody tr th {\n",
       "        vertical-align: top;\n",
       "    }\n",
       "\n",
       "    .dataframe thead th {\n",
       "        text-align: right;\n",
       "    }\n",
       "</style>\n",
       "<table border=\"1\" class=\"dataframe\">\n",
       "  <thead>\n",
       "    <tr style=\"text-align: right;\">\n",
       "      <th></th>\n",
       "      <th>incident_id</th>\n",
       "      <th>n_killed</th>\n",
       "      <th>n_injured</th>\n",
       "      <th>n_guns_involved</th>\n",
       "      <th>lawtotal</th>\n",
       "      <th>Total population</th>\n",
       "    </tr>\n",
       "    <tr>\n",
       "      <th>state_year</th>\n",
       "      <th></th>\n",
       "      <th></th>\n",
       "      <th></th>\n",
       "      <th></th>\n",
       "      <th></th>\n",
       "      <th></th>\n",
       "    </tr>\n",
       "  </thead>\n",
       "  <tbody>\n",
       "    <tr>\n",
       "      <th>Alabama2014</th>\n",
       "      <td>1318</td>\n",
       "      <td>325</td>\n",
       "      <td>591</td>\n",
       "      <td>1792.073225</td>\n",
       "      <td>10</td>\n",
       "      <td>4505293</td>\n",
       "    </tr>\n",
       "    <tr>\n",
       "      <th>Alabama2015</th>\n",
       "      <td>1034</td>\n",
       "      <td>385</td>\n",
       "      <td>562</td>\n",
       "      <td>1484.432117</td>\n",
       "      <td>10</td>\n",
       "      <td>4387292</td>\n",
       "    </tr>\n",
       "    <tr>\n",
       "      <th>Alabama2016</th>\n",
       "      <td>1309</td>\n",
       "      <td>488</td>\n",
       "      <td>761</td>\n",
       "      <td>1839.658694</td>\n",
       "      <td>10</td>\n",
       "      <td>4540957</td>\n",
       "    </tr>\n",
       "    <tr>\n",
       "      <th>Alabama2017</th>\n",
       "      <td>1461</td>\n",
       "      <td>544</td>\n",
       "      <td>856</td>\n",
       "      <td>1882.117325</td>\n",
       "      <td>10</td>\n",
       "      <td>4592069</td>\n",
       "    </tr>\n",
       "    <tr>\n",
       "      <th>Alabama2018</th>\n",
       "      <td>347</td>\n",
       "      <td>135</td>\n",
       "      <td>219</td>\n",
       "      <td>393.000000</td>\n",
       "      <td>10</td>\n",
       "      <td>4533634</td>\n",
       "    </tr>\n",
       "  </tbody>\n",
       "</table>\n",
       "</div>"
      ],
      "text/plain": [
       "             incident_id  n_killed  n_injured  n_guns_involved  lawtotal  \\\n",
       "state_year                                                                 \n",
       "Alabama2014         1318       325        591      1792.073225        10   \n",
       "Alabama2015         1034       385        562      1484.432117        10   \n",
       "Alabama2016         1309       488        761      1839.658694        10   \n",
       "Alabama2017         1461       544        856      1882.117325        10   \n",
       "Alabama2018          347       135        219       393.000000        10   \n",
       "\n",
       "             Total population  \n",
       "state_year                     \n",
       "Alabama2014           4505293  \n",
       "Alabama2015           4387292  \n",
       "Alabama2016           4540957  \n",
       "Alabama2017           4592069  \n",
       "Alabama2018           4533634  "
      ]
     },
     "execution_count": 10,
     "metadata": {},
     "output_type": "execute_result"
    }
   ],
   "source": [
    "df_agg.head()"
   ]
  },
  {
   "cell_type": "code",
   "execution_count": 11,
   "id": "fbe0e107",
   "metadata": {},
   "outputs": [],
   "source": [
    "# Calculate incidents per 100000 population\n",
    "df_agg['incidents_per_100000'] = (df_agg['incident_id'] / df_agg['Total population']) * 100000"
   ]
  },
  {
   "cell_type": "code",
   "execution_count": 12,
   "id": "6f8f0a8f",
   "metadata": {},
   "outputs": [],
   "source": [
    "# Calculate n_killed per 100000 population\n",
    "df_agg['n_killed_per_100000'] = (df_agg['n_killed'] / df_agg['Total population']) * 100000"
   ]
  },
  {
   "cell_type": "code",
   "execution_count": 13,
   "id": "aa4f2ad2",
   "metadata": {},
   "outputs": [],
   "source": [
    "# Calculate injured per 100000 population\n",
    "df_agg['n_injured_per_100000'] = (df_agg['n_injured'] / df_agg['Total population']) * 100000"
   ]
  },
  {
   "cell_type": "code",
   "execution_count": 14,
   "id": "3d1855f6",
   "metadata": {},
   "outputs": [],
   "source": [
    "# Calculate n_guns_involved per 100000 population\n",
    "df_agg['n_guns_involved_per_100000'] = (df_agg['n_guns_involved'] / df_agg['Total population']) * 100000"
   ]
  },
  {
   "cell_type": "code",
   "execution_count": 15,
   "id": "b4be67be",
   "metadata": {},
   "outputs": [
    {
     "data": {
      "text/html": [
       "<div>\n",
       "<style scoped>\n",
       "    .dataframe tbody tr th:only-of-type {\n",
       "        vertical-align: middle;\n",
       "    }\n",
       "\n",
       "    .dataframe tbody tr th {\n",
       "        vertical-align: top;\n",
       "    }\n",
       "\n",
       "    .dataframe thead th {\n",
       "        text-align: right;\n",
       "    }\n",
       "</style>\n",
       "<table border=\"1\" class=\"dataframe\">\n",
       "  <thead>\n",
       "    <tr style=\"text-align: right;\">\n",
       "      <th></th>\n",
       "      <th>incident_id</th>\n",
       "      <th>n_killed</th>\n",
       "      <th>n_injured</th>\n",
       "      <th>n_guns_involved</th>\n",
       "      <th>lawtotal</th>\n",
       "      <th>Total population</th>\n",
       "      <th>incidents_per_100000</th>\n",
       "      <th>n_killed_per_100000</th>\n",
       "      <th>n_injured_per_100000</th>\n",
       "      <th>n_guns_involved_per_100000</th>\n",
       "    </tr>\n",
       "    <tr>\n",
       "      <th>state_year</th>\n",
       "      <th></th>\n",
       "      <th></th>\n",
       "      <th></th>\n",
       "      <th></th>\n",
       "      <th></th>\n",
       "      <th></th>\n",
       "      <th></th>\n",
       "      <th></th>\n",
       "      <th></th>\n",
       "      <th></th>\n",
       "    </tr>\n",
       "  </thead>\n",
       "  <tbody>\n",
       "    <tr>\n",
       "      <th>Alabama2014</th>\n",
       "      <td>1318</td>\n",
       "      <td>325</td>\n",
       "      <td>591</td>\n",
       "      <td>1792.073225</td>\n",
       "      <td>10</td>\n",
       "      <td>4505293</td>\n",
       "      <td>29.254479</td>\n",
       "      <td>7.213737</td>\n",
       "      <td>13.117904</td>\n",
       "      <td>39.777063</td>\n",
       "    </tr>\n",
       "    <tr>\n",
       "      <th>Alabama2015</th>\n",
       "      <td>1034</td>\n",
       "      <td>385</td>\n",
       "      <td>562</td>\n",
       "      <td>1484.432117</td>\n",
       "      <td>10</td>\n",
       "      <td>4387292</td>\n",
       "      <td>23.568069</td>\n",
       "      <td>8.775345</td>\n",
       "      <td>12.809724</td>\n",
       "      <td>33.834815</td>\n",
       "    </tr>\n",
       "    <tr>\n",
       "      <th>Alabama2016</th>\n",
       "      <td>1309</td>\n",
       "      <td>488</td>\n",
       "      <td>761</td>\n",
       "      <td>1839.658694</td>\n",
       "      <td>10</td>\n",
       "      <td>4540957</td>\n",
       "      <td>28.826523</td>\n",
       "      <td>10.746633</td>\n",
       "      <td>16.758582</td>\n",
       "      <td>40.512577</td>\n",
       "    </tr>\n",
       "    <tr>\n",
       "      <th>Alabama2017</th>\n",
       "      <td>1461</td>\n",
       "      <td>544</td>\n",
       "      <td>856</td>\n",
       "      <td>1882.117325</td>\n",
       "      <td>10</td>\n",
       "      <td>4592069</td>\n",
       "      <td>31.815724</td>\n",
       "      <td>11.846512</td>\n",
       "      <td>18.640835</td>\n",
       "      <td>40.986260</td>\n",
       "    </tr>\n",
       "    <tr>\n",
       "      <th>Alabama2018</th>\n",
       "      <td>347</td>\n",
       "      <td>135</td>\n",
       "      <td>219</td>\n",
       "      <td>393.000000</td>\n",
       "      <td>10</td>\n",
       "      <td>4533634</td>\n",
       "      <td>7.653904</td>\n",
       "      <td>2.977744</td>\n",
       "      <td>4.830562</td>\n",
       "      <td>8.668543</td>\n",
       "    </tr>\n",
       "  </tbody>\n",
       "</table>\n",
       "</div>"
      ],
      "text/plain": [
       "             incident_id  n_killed  n_injured  n_guns_involved  lawtotal  \\\n",
       "state_year                                                                 \n",
       "Alabama2014         1318       325        591      1792.073225        10   \n",
       "Alabama2015         1034       385        562      1484.432117        10   \n",
       "Alabama2016         1309       488        761      1839.658694        10   \n",
       "Alabama2017         1461       544        856      1882.117325        10   \n",
       "Alabama2018          347       135        219       393.000000        10   \n",
       "\n",
       "             Total population  incidents_per_100000  n_killed_per_100000  \\\n",
       "state_year                                                                 \n",
       "Alabama2014           4505293             29.254479             7.213737   \n",
       "Alabama2015           4387292             23.568069             8.775345   \n",
       "Alabama2016           4540957             28.826523            10.746633   \n",
       "Alabama2017           4592069             31.815724            11.846512   \n",
       "Alabama2018           4533634              7.653904             2.977744   \n",
       "\n",
       "             n_injured_per_100000  n_guns_involved_per_100000  \n",
       "state_year                                                     \n",
       "Alabama2014             13.117904                   39.777063  \n",
       "Alabama2015             12.809724                   33.834815  \n",
       "Alabama2016             16.758582                   40.512577  \n",
       "Alabama2017             18.640835                   40.986260  \n",
       "Alabama2018              4.830562                    8.668543  "
      ]
     },
     "execution_count": 15,
     "metadata": {},
     "output_type": "execute_result"
    }
   ],
   "source": [
    "df_agg.head()"
   ]
  },
  {
   "cell_type": "markdown",
   "id": "6251c5f7",
   "metadata": {},
   "source": [
    "# Dropping the individual incident, killed, injured, guns involved and total population columns"
   ]
  },
  {
   "cell_type": "code",
   "execution_count": 18,
   "id": "2eba31c5",
   "metadata": {},
   "outputs": [],
   "source": [
    "df_agg = df_agg.drop(columns =['incident_id', 'n_killed', 'n_injured', 'n_guns_involved', 'Total population'])"
   ]
  },
  {
   "cell_type": "code",
   "execution_count": 20,
   "id": "1f13a202",
   "metadata": {},
   "outputs": [],
   "source": [
    "df_agg.index = df_agg.index.astype(str)  # Convert index to string type\n",
    "\n",
    "# Extract state and year from 'state_year' column\n",
    "df_agg['State'] = df_agg.index.str[:-4]\n",
    "df_agg['Year'] = df_agg.index.str[-4:]"
   ]
  },
  {
   "cell_type": "code",
   "execution_count": 21,
   "id": "f7810cf4",
   "metadata": {
    "scrolled": true
   },
   "outputs": [
    {
     "data": {
      "text/html": [
       "<div>\n",
       "<style scoped>\n",
       "    .dataframe tbody tr th:only-of-type {\n",
       "        vertical-align: middle;\n",
       "    }\n",
       "\n",
       "    .dataframe tbody tr th {\n",
       "        vertical-align: top;\n",
       "    }\n",
       "\n",
       "    .dataframe thead th {\n",
       "        text-align: right;\n",
       "    }\n",
       "</style>\n",
       "<table border=\"1\" class=\"dataframe\">\n",
       "  <thead>\n",
       "    <tr style=\"text-align: right;\">\n",
       "      <th></th>\n",
       "      <th>lawtotal</th>\n",
       "      <th>incidents_per_100000</th>\n",
       "      <th>n_killed_per_100000</th>\n",
       "      <th>n_injured_per_100000</th>\n",
       "      <th>n_guns_involved_per_100000</th>\n",
       "      <th>State</th>\n",
       "      <th>Year</th>\n",
       "    </tr>\n",
       "    <tr>\n",
       "      <th>state_year</th>\n",
       "      <th></th>\n",
       "      <th></th>\n",
       "      <th></th>\n",
       "      <th></th>\n",
       "      <th></th>\n",
       "      <th></th>\n",
       "      <th></th>\n",
       "    </tr>\n",
       "  </thead>\n",
       "  <tbody>\n",
       "    <tr>\n",
       "      <th>Alabama2014</th>\n",
       "      <td>10</td>\n",
       "      <td>29.254479</td>\n",
       "      <td>7.213737</td>\n",
       "      <td>13.117904</td>\n",
       "      <td>39.777063</td>\n",
       "      <td>Alabama</td>\n",
       "      <td>2014</td>\n",
       "    </tr>\n",
       "    <tr>\n",
       "      <th>Alabama2015</th>\n",
       "      <td>10</td>\n",
       "      <td>23.568069</td>\n",
       "      <td>8.775345</td>\n",
       "      <td>12.809724</td>\n",
       "      <td>33.834815</td>\n",
       "      <td>Alabama</td>\n",
       "      <td>2015</td>\n",
       "    </tr>\n",
       "    <tr>\n",
       "      <th>Alabama2016</th>\n",
       "      <td>10</td>\n",
       "      <td>28.826523</td>\n",
       "      <td>10.746633</td>\n",
       "      <td>16.758582</td>\n",
       "      <td>40.512577</td>\n",
       "      <td>Alabama</td>\n",
       "      <td>2016</td>\n",
       "    </tr>\n",
       "    <tr>\n",
       "      <th>Alabama2017</th>\n",
       "      <td>10</td>\n",
       "      <td>31.815724</td>\n",
       "      <td>11.846512</td>\n",
       "      <td>18.640835</td>\n",
       "      <td>40.986260</td>\n",
       "      <td>Alabama</td>\n",
       "      <td>2017</td>\n",
       "    </tr>\n",
       "    <tr>\n",
       "      <th>Alabama2018</th>\n",
       "      <td>10</td>\n",
       "      <td>7.653904</td>\n",
       "      <td>2.977744</td>\n",
       "      <td>4.830562</td>\n",
       "      <td>8.668543</td>\n",
       "      <td>Alabama</td>\n",
       "      <td>2018</td>\n",
       "    </tr>\n",
       "  </tbody>\n",
       "</table>\n",
       "</div>"
      ],
      "text/plain": [
       "             lawtotal  incidents_per_100000  n_killed_per_100000  \\\n",
       "state_year                                                         \n",
       "Alabama2014        10             29.254479             7.213737   \n",
       "Alabama2015        10             23.568069             8.775345   \n",
       "Alabama2016        10             28.826523            10.746633   \n",
       "Alabama2017        10             31.815724            11.846512   \n",
       "Alabama2018        10              7.653904             2.977744   \n",
       "\n",
       "             n_injured_per_100000  n_guns_involved_per_100000    State  Year  \n",
       "state_year                                                                    \n",
       "Alabama2014             13.117904                   39.777063  Alabama  2014  \n",
       "Alabama2015             12.809724                   33.834815  Alabama  2015  \n",
       "Alabama2016             16.758582                   40.512577  Alabama  2016  \n",
       "Alabama2017             18.640835                   40.986260  Alabama  2017  \n",
       "Alabama2018              4.830562                    8.668543  Alabama  2018  "
      ]
     },
     "execution_count": 21,
     "metadata": {},
     "output_type": "execute_result"
    }
   ],
   "source": [
    "df_agg.head()"
   ]
  },
  {
   "cell_type": "markdown",
   "id": "bab93cf3",
   "metadata": {},
   "source": [
    "# Cleaning data"
   ]
  },
  {
   "cell_type": "code",
   "execution_count": 22,
   "id": "7f22005c",
   "metadata": {},
   "outputs": [
    {
     "data": {
      "text/plain": [
       "lawtotal                      0\n",
       "incidents_per_100000          0\n",
       "n_killed_per_100000           0\n",
       "n_injured_per_100000          0\n",
       "n_guns_involved_per_100000    0\n",
       "State                         0\n",
       "Year                          0\n",
       "dtype: int64"
      ]
     },
     "execution_count": 22,
     "metadata": {},
     "output_type": "execute_result"
    }
   ],
   "source": [
    "# Check for missing values\n",
    "\n",
    "df_agg.isnull().sum()"
   ]
  },
  {
   "cell_type": "code",
   "execution_count": 23,
   "id": "2872f1f6",
   "metadata": {},
   "outputs": [
    {
     "data": {
      "text/plain": [
       "lawtotal                      0\n",
       "incidents_per_100000          0\n",
       "n_killed_per_100000           0\n",
       "n_injured_per_100000          0\n",
       "n_guns_involved_per_100000    0\n",
       "State                         0\n",
       "Year                          0\n",
       "dtype: int64"
      ]
     },
     "execution_count": 23,
     "metadata": {},
     "output_type": "execute_result"
    }
   ],
   "source": [
    "# Last check for NaN\n",
    "\n",
    "df_agg.isnull().sum()"
   ]
  },
  {
   "cell_type": "code",
   "execution_count": 24,
   "id": "1bb4621c",
   "metadata": {},
   "outputs": [],
   "source": [
    "dups = df_agg.duplicated()"
   ]
  },
  {
   "cell_type": "code",
   "execution_count": 25,
   "id": "4ba0605a",
   "metadata": {
    "scrolled": true
   },
   "outputs": [
    {
     "data": {
      "text/plain": [
       "(250,)"
      ]
     },
     "execution_count": 25,
     "metadata": {},
     "output_type": "execute_result"
    }
   ],
   "source": [
    "dups.shape # no dups"
   ]
  },
  {
   "cell_type": "markdown",
   "id": "5bc95778",
   "metadata": {},
   "source": [
    "# Exporting new data set"
   ]
  },
  {
   "cell_type": "code",
   "execution_count": 30,
   "id": "fc74be0e",
   "metadata": {},
   "outputs": [],
   "source": [
    "df_agg.to_csv(os.path.join(path, '02 Data','Prepared Data', 'df_gunv_agg_linreg.csv'))"
   ]
  },
  {
   "cell_type": "markdown",
   "id": "e4bc13ca",
   "metadata": {},
   "source": [
    "# Looking at the data we want to use"
   ]
  },
  {
   "cell_type": "markdown",
   "id": "feff8af9",
   "metadata": {},
   "source": [
    "#### 4: Explore your data visually (e.g., by way of a scatterplot), looking for variables whose relationship you’d like to test"
   ]
  },
  {
   "cell_type": "code",
   "execution_count": 26,
   "id": "01e121aa",
   "metadata": {},
   "outputs": [
    {
     "name": "stderr",
     "output_type": "stream",
     "text": [
      "D:\\Anaconda3\\Lib\\site-packages\\seaborn\\axisgrid.py:118: UserWarning: The figure layout has changed to tight\n",
      "  self._figure.tight_layout(*args, **kwargs)\n"
     ]
    },
    {
     "data": {
      "text/plain": [
       "<seaborn.axisgrid.FacetGrid at 0x1fe8e9c3110>"
      ]
     },
     "execution_count": 26,
     "metadata": {},
     "output_type": "execute_result"
    },
    {
     "data": {
      "image/png": "[encoded data removed]",
      "text/plain": [
       "<Figure size 500x500 with 1 Axes>"
      ]
     },
     "metadata": {},
     "output_type": "display_data"
    }
   ],
   "source": [
    "# Create a scatterplot for the \"lawtotal\" and \"incidents_per_1000\" columns in seaborn\n",
    "\n",
    "sns.lmplot(x = 'lawtotal', y = 'incidents_per_100000', data = df_agg)"
   ]
  },
  {
   "cell_type": "code",
   "execution_count": 27,
   "id": "5f34c4e1",
   "metadata": {},
   "outputs": [
    {
     "name": "stderr",
     "output_type": "stream",
     "text": [
      "D:\\Anaconda3\\Lib\\site-packages\\seaborn\\axisgrid.py:118: UserWarning: The figure layout has changed to tight\n",
      "  self._figure.tight_layout(*args, **kwargs)\n"
     ]
    },
    {
     "data": {
      "text/plain": [
       "<seaborn.axisgrid.FacetGrid at 0x1feffb63110>"
      ]
     },
     "execution_count": 27,
     "metadata": {},
     "output_type": "execute_result"
    },
    {
     "data": {
      "image/png": "[encoded data removed]",
      "text/plain": [
       "<Figure size 500x500 with 1 Axes>"
      ]
     },
     "metadata": {},
     "output_type": "display_data"
    }
   ],
   "source": [
    "# Create a scatterplot for the \"lawtotal\" and 'n_killed_per_100000' columns in seaborn\n",
    "\n",
    "sns.lmplot(x = 'lawtotal', y = 'n_killed_per_100000', data = df_agg)"
   ]
  },
  {
   "cell_type": "code",
   "execution_count": 28,
   "id": "e24a3bf1",
   "metadata": {},
   "outputs": [
    {
     "name": "stderr",
     "output_type": "stream",
     "text": [
      "D:\\Anaconda3\\Lib\\site-packages\\seaborn\\axisgrid.py:118: UserWarning: The figure layout has changed to tight\n",
      "  self._figure.tight_layout(*args, **kwargs)\n"
     ]
    },
    {
     "data": {
      "text/plain": [
       "<seaborn.axisgrid.FacetGrid at 0x1fe8eb35f50>"
      ]
     },
     "execution_count": 28,
     "metadata": {},
     "output_type": "execute_result"
    },
    {
     "data": {
      "image/png": "[encoded data removed]",
      "text/plain": [
       "<Figure size 500x500 with 1 Axes>"
      ]
     },
     "metadata": {},
     "output_type": "display_data"
    }
   ],
   "source": [
    "# Create a scatterplot for the \"lawtotal\" and 'n_injured_per_100000' columns in seaborn\n",
    "\n",
    "sns.lmplot(x = 'lawtotal', y = 'n_injured_per_100000', data = df_agg)"
   ]
  },
  {
   "cell_type": "code",
   "execution_count": 29,
   "id": "01d71f8f",
   "metadata": {},
   "outputs": [
    {
     "name": "stderr",
     "output_type": "stream",
     "text": [
      "D:\\Anaconda3\\Lib\\site-packages\\seaborn\\axisgrid.py:118: UserWarning: The figure layout has changed to tight\n",
      "  self._figure.tight_layout(*args, **kwargs)\n"
     ]
    },
    {
     "data": {
      "text/plain": [
       "<seaborn.axisgrid.FacetGrid at 0x1fe8ec25350>"
      ]
     },
     "execution_count": 29,
     "metadata": {},
     "output_type": "execute_result"
    },
    {
     "data": {
      "image/png": "[encoded data removed]",
      "text/plain": [
       "<Figure size 500x500 with 1 Axes>"
      ]
     },
     "metadata": {},
     "output_type": "display_data"
    }
   ],
   "source": [
    "# Create a scatterplot for the \"lawtotal\" and 'n_guns_involved_per_100000 columns in seaborn\n",
    "\n",
    "sns.lmplot(x = 'lawtotal', y = 'n_guns_involved_per_100000', data = df_agg)"
   ]
  },
  {
   "cell_type": "markdown",
   "id": "a874ec80",
   "metadata": {},
   "source": [
    "# Hypothesis"
   ]
  },
  {
   "cell_type": "markdown",
   "id": "6e42df61",
   "metadata": {},
   "source": [
    "#### 5: State your hypothesis in a markdown cell within your Jupyter notebook."
   ]
  },
  {
   "cell_type": "markdown",
   "id": "89be712d",
   "metadata": {},
   "source": [
    "\n",
    "#### \n",
    "1. The more gun laws exist in a state the less people will be injured trough gun related violence.\n",
    "2. The more gun laws exist in a state the less people will be killend trough gun related violence.\n",
    "3. The more gun laws exist in a state the less gun related incidents occure.\n",
    "4. The more gun laws exist in a state the less guns are involved in gun related incidents."
   ]
  },
  {
   "cell_type": "markdown",
   "id": "0c319792",
   "metadata": {},
   "source": [
    "# 6: Reshape the variables into NumPy arrays, with X being the independent variable and y being the dependent variable."
   ]
  },
  {
   "cell_type": "markdown",
   "id": "2f6d8651",
   "metadata": {},
   "source": [
    "#### Starting with lawtotal (X1) and 'incidents_per_100000' (y1)"
   ]
  },
  {
   "cell_type": "code",
   "execution_count": 32,
   "id": "1b0d816e",
   "metadata": {},
   "outputs": [],
   "source": [
    "# Reshape the variables into NumPy arrays and put them into separate objects.\n",
    "\n",
    "X1 = df_agg['lawtotal'].values.reshape(-1,1)\n",
    "y1 = df_agg['incidents_per_100000'].values.reshape(-1,1)"
   ]
  },
  {
   "cell_type": "code",
   "execution_count": 33,
   "id": "7d3108b0",
   "metadata": {},
   "outputs": [
    {
     "data": {
      "text/plain": [
       "array([[ 10],\n",
       "       [ 10],\n",
       "       [ 10],\n",
       "       [ 10],\n",
       "       [ 10],\n",
       "       [  3],\n",
       "       [  3],\n",
       "       [  3],\n",
       "       [  3],\n",
       "       [  3],\n",
       "       [  8],\n",
       "       [  8],\n",
       "       [  8],\n",
       "       [  8],\n",
       "       [  8],\n",
       "       [ 11],\n",
       "       [ 11],\n",
       "       [ 11],\n",
       "       [ 11],\n",
       "       [ 11],\n",
       "       [100],\n",
       "       [102],\n",
       "       [104],\n",
       "       [106],\n",
       "       [109],\n",
       "       [ 30],\n",
       "       [ 30],\n",
       "       [ 30],\n",
       "       [ 30],\n",
       "       [ 30],\n",
       "       [ 83],\n",
       "       [ 83],\n",
       "       [ 88],\n",
       "       [ 88],\n",
       "       [ 88],\n",
       "       [ 37],\n",
       "       [ 37],\n",
       "       [ 38],\n",
       "       [ 39],\n",
       "       [ 41],\n",
       "       [ 21],\n",
       "       [ 21],\n",
       "       [ 21],\n",
       "       [ 21],\n",
       "       [ 30],\n",
       "       [  6],\n",
       "       [  6],\n",
       "       [  6],\n",
       "       [  6],\n",
       "       [  6],\n",
       "       [ 78],\n",
       "       [ 78],\n",
       "       [ 79],\n",
       "       [ 79],\n",
       "       [ 79],\n",
       "       [  5],\n",
       "       [  6],\n",
       "       [  2],\n",
       "       [  2],\n",
       "       [  1],\n",
       "       [ 65],\n",
       "       [ 65],\n",
       "       [ 65],\n",
       "       [ 65],\n",
       "       [ 65],\n",
       "       [ 11],\n",
       "       [ 11],\n",
       "       [ 12],\n",
       "       [ 12],\n",
       "       [ 12],\n",
       "       [ 25],\n",
       "       [ 25],\n",
       "       [ 25],\n",
       "       [ 24],\n",
       "       [ 24],\n",
       "       [  8],\n",
       "       [  4],\n",
       "       [  4],\n",
       "       [  4],\n",
       "       [  7],\n",
       "       [  7],\n",
       "       [  7],\n",
       "       [  7],\n",
       "       [  7],\n",
       "       [  7],\n",
       "       [ 12],\n",
       "       [ 12],\n",
       "       [ 12],\n",
       "       [ 13],\n",
       "       [ 19],\n",
       "       [ 11],\n",
       "       [ 11],\n",
       "       [ 11],\n",
       "       [ 11],\n",
       "       [ 11],\n",
       "       [ 63],\n",
       "       [ 64],\n",
       "       [ 64],\n",
       "       [ 64],\n",
       "       [ 69],\n",
       "       [101],\n",
       "       [101],\n",
       "       [101],\n",
       "       [101],\n",
       "       [103],\n",
       "       [ 20],\n",
       "       [ 21],\n",
       "       [ 21],\n",
       "       [ 21],\n",
       "       [ 21],\n",
       "       [ 39],\n",
       "       [ 41],\n",
       "       [ 41],\n",
       "       [ 41],\n",
       "       [ 41],\n",
       "       [  5],\n",
       "       [  2],\n",
       "       [  2],\n",
       "       [  2],\n",
       "       [  2],\n",
       "       [  8],\n",
       "       [  8],\n",
       "       [  7],\n",
       "       [  2],\n",
       "       [  2],\n",
       "       [  4],\n",
       "       [  4],\n",
       "       [  4],\n",
       "       [  4],\n",
       "       [  4],\n",
       "       [ 22],\n",
       "       [ 22],\n",
       "       [ 22],\n",
       "       [ 22],\n",
       "       [ 22],\n",
       "       [ 11],\n",
       "       [ 15],\n",
       "       [ 15],\n",
       "       [ 21],\n",
       "       [ 21],\n",
       "       [ 10],\n",
       "       [ 10],\n",
       "       [ 10],\n",
       "       [  9],\n",
       "       [  9],\n",
       "       [ 67],\n",
       "       [ 67],\n",
       "       [ 67],\n",
       "       [ 75],\n",
       "       [ 78],\n",
       "       [ 10],\n",
       "       [ 10],\n",
       "       [ 10],\n",
       "       [ 10],\n",
       "       [ 10],\n",
       "       [ 74],\n",
       "       [ 74],\n",
       "       [ 74],\n",
       "       [ 74],\n",
       "       [ 74],\n",
       "       [ 30],\n",
       "       [ 30],\n",
       "       [ 30],\n",
       "       [ 30],\n",
       "       [ 30],\n",
       "       [ 14],\n",
       "       [ 14],\n",
       "       [ 14],\n",
       "       [ 10],\n",
       "       [ 10],\n",
       "       [ 15],\n",
       "       [ 16],\n",
       "       [ 16],\n",
       "       [ 16],\n",
       "       [ 16],\n",
       "       [  9],\n",
       "       [  9],\n",
       "       [  9],\n",
       "       [  9],\n",
       "       [  9],\n",
       "       [ 24],\n",
       "       [ 33],\n",
       "       [ 35],\n",
       "       [ 35],\n",
       "       [ 38],\n",
       "       [ 37],\n",
       "       [ 37],\n",
       "       [ 37],\n",
       "       [ 37],\n",
       "       [ 37],\n",
       "       [ 42],\n",
       "       [ 42],\n",
       "       [ 42],\n",
       "       [ 52],\n",
       "       [ 53],\n",
       "       [ 12],\n",
       "       [ 12],\n",
       "       [ 12],\n",
       "       [ 12],\n",
       "       [ 12],\n",
       "       [  5],\n",
       "       [  5],\n",
       "       [  5],\n",
       "       [  5],\n",
       "       [  6],\n",
       "       [ 24],\n",
       "       [ 24],\n",
       "       [ 22],\n",
       "       [ 22],\n",
       "       [ 22],\n",
       "       [ 20],\n",
       "       [ 20],\n",
       "       [ 18],\n",
       "       [ 18],\n",
       "       [ 18],\n",
       "       [ 11],\n",
       "       [ 11],\n",
       "       [ 11],\n",
       "       [ 13],\n",
       "       [ 15],\n",
       "       [  3],\n",
       "       [  6],\n",
       "       [  6],\n",
       "       [  6],\n",
       "       [ 19],\n",
       "       [ 12],\n",
       "       [ 12],\n",
       "       [ 13],\n",
       "       [ 13],\n",
       "       [ 13],\n",
       "       [ 41],\n",
       "       [ 41],\n",
       "       [ 43],\n",
       "       [ 43],\n",
       "       [ 43],\n",
       "       [ 24],\n",
       "       [ 24],\n",
       "       [ 18],\n",
       "       [ 18],\n",
       "       [ 18],\n",
       "       [ 24],\n",
       "       [ 23],\n",
       "       [ 23],\n",
       "       [ 23],\n",
       "       [ 23],\n",
       "       [  8],\n",
       "       [  8],\n",
       "       [  8],\n",
       "       [  8],\n",
       "       [  7]], dtype=int64)"
      ]
     },
     "execution_count": 33,
     "metadata": {},
     "output_type": "execute_result"
    }
   ],
   "source": [
    "X1"
   ]
  },
  {
   "cell_type": "code",
   "execution_count": 34,
   "id": "13e58331",
   "metadata": {},
   "outputs": [
    {
     "data": {
      "text/plain": [
       "array([[29.25447912],\n",
       "       [23.56806887],\n",
       "       [28.82652269],\n",
       "       [31.81572402],\n",
       "       [ 7.65390413],\n",
       "       [23.28481798],\n",
       "       [55.96061551],\n",
       "       [63.58705282],\n",
       "       [45.53923773],\n",
       "       [ 8.99238154],\n",
       "       [ 8.52351816],\n",
       "       [ 7.35888081],\n",
       "       [ 8.511959  ],\n",
       "       [ 8.70609743],\n",
       "       [ 2.22780292],\n",
       "       [21.98482202],\n",
       "       [19.65212093],\n",
       "       [27.46302314],\n",
       "       [29.27329405],\n",
       "       [ 7.0725031 ],\n",
       "       [ 9.81445757],\n",
       "       [ 8.42317511],\n",
       "       [ 9.38182879],\n",
       "       [11.91092549],\n",
       "       [ 2.86815542],\n",
       "       [11.03554059],\n",
       "       [15.33888323],\n",
       "       [15.5474929 ],\n",
       "       [15.34434978],\n",
       "       [ 4.50735918],\n",
       "       [16.23027277],\n",
       "       [20.51083958],\n",
       "       [22.37660126],\n",
       "       [21.69995198],\n",
       "       [ 4.48420876],\n",
       "       [53.75875079],\n",
       "       [39.50546924],\n",
       "       [35.09166092],\n",
       "       [41.21932922],\n",
       "       [11.44613245],\n",
       "       [16.39638667],\n",
       "       [14.02541798],\n",
       "       [21.15265718],\n",
       "       [20.600712  ],\n",
       "       [ 4.2149206 ],\n",
       "       [21.44636977],\n",
       "       [28.75176802],\n",
       "       [17.84096162],\n",
       "       [20.81558467],\n",
       "       [ 4.36900855],\n",
       "       [ 3.45057625],\n",
       "       [ 5.33346987],\n",
       "       [ 5.58827961],\n",
       "       [ 4.78318794],\n",
       "       [ 1.35541857],\n",
       "       [ 7.96254971],\n",
       "       [12.01582831],\n",
       "       [10.35708558],\n",
       "       [11.03875347],\n",
       "       [ 3.4278824 ],\n",
       "       [24.64614467],\n",
       "       [27.62110367],\n",
       "       [40.08556663],\n",
       "       [40.75072297],\n",
       "       [ 6.71735467],\n",
       "       [19.31558291],\n",
       "       [21.76413482],\n",
       "       [24.34880248],\n",
       "       [23.09695785],\n",
       "       [ 5.25400722],\n",
       "       [20.96351869],\n",
       "       [20.5433668 ],\n",
       "       [24.16883416],\n",
       "       [22.03502893],\n",
       "       [ 4.19490847],\n",
       "       [13.99500441],\n",
       "       [16.66177536],\n",
       "       [20.87353557],\n",
       "       [21.32305498],\n",
       "       [ 5.47432852],\n",
       "       [24.27002376],\n",
       "       [22.12200358],\n",
       "       [25.19580422],\n",
       "       [26.53052814],\n",
       "       [ 5.25126433],\n",
       "       [42.74069672],\n",
       "       [38.56179984],\n",
       "       [46.30132905],\n",
       "       [45.85741598],\n",
       "       [ 9.98823481],\n",
       "       [13.77457124],\n",
       "       [17.85487925],\n",
       "       [18.37094097],\n",
       "       [16.35010817],\n",
       "       [ 4.49259612],\n",
       "       [21.50897159],\n",
       "       [21.6522487 ],\n",
       "       [21.99576994],\n",
       "       [26.66686032],\n",
       "       [ 6.3058111 ],\n",
       "       [14.54086396],\n",
       "       [20.00437166],\n",
       "       [22.90148461],\n",
       "       [26.00672306],\n",
       "       [ 5.52834299],\n",
       "       [14.84448174],\n",
       "       [13.15923568],\n",
       "       [13.67543679],\n",
       "       [14.24420858],\n",
       "       [ 7.572649  ],\n",
       "       [ 8.71156361],\n",
       "       [ 7.96221328],\n",
       "       [ 9.01152262],\n",
       "       [15.41235669],\n",
       "       [ 6.22510932],\n",
       "       [29.23313725],\n",
       "       [24.07408554],\n",
       "       [31.21646383],\n",
       "       [43.79068139],\n",
       "       [10.17722645],\n",
       "       [22.06534395],\n",
       "       [30.49830503],\n",
       "       [26.86991774],\n",
       "       [31.08103617],\n",
       "       [ 6.46110785],\n",
       "       [14.44504507],\n",
       "       [14.7812793 ],\n",
       "       [17.12719799],\n",
       "       [20.75531964],\n",
       "       [ 4.58076503],\n",
       "       [20.81754769],\n",
       "       [22.70217838],\n",
       "       [21.23754106],\n",
       "       [25.7507759 ],\n",
       "       [ 6.38373261],\n",
       "       [13.8749637 ],\n",
       "       [17.62731336],\n",
       "       [19.00023325],\n",
       "       [15.5076392 ],\n",
       "       [ 4.00469018],\n",
       "       [17.99999687],\n",
       "       [16.78960298],\n",
       "       [20.48959588],\n",
       "       [15.46723049],\n",
       "       [ 3.61476176],\n",
       "       [17.13923709],\n",
       "       [11.92667052],\n",
       "       [13.82902088],\n",
       "       [14.97740945],\n",
       "       [ 2.52125593],\n",
       "       [16.13561989],\n",
       "       [20.37405738],\n",
       "       [20.11091751],\n",
       "       [22.15866993],\n",
       "       [ 4.07496322],\n",
       "       [ 9.75798705],\n",
       "       [14.85628071],\n",
       "       [12.83471598],\n",
       "       [10.31938628],\n",
       "       [ 1.72288345],\n",
       "       [22.55433172],\n",
       "       [20.40087051],\n",
       "       [22.27094765],\n",
       "       [21.72262992],\n",
       "       [ 4.88730908],\n",
       "       [17.57598418],\n",
       "       [22.89046681],\n",
       "       [26.47454384],\n",
       "       [19.16937512],\n",
       "       [ 4.88402027],\n",
       "       [20.73960152],\n",
       "       [19.47022895],\n",
       "       [21.88371663],\n",
       "       [24.22482576],\n",
       "       [ 5.29310739],\n",
       "       [17.91514583],\n",
       "       [23.00570021],\n",
       "       [25.25611188],\n",
       "       [24.33881884],\n",
       "       [ 5.63927581],\n",
       "       [10.48884611],\n",
       "       [18.15905319],\n",
       "       [13.91524958],\n",
       "       [13.0473404 ],\n",
       "       [ 3.61570046],\n",
       "       [18.12279066],\n",
       "       [14.40877858],\n",
       "       [17.21193852],\n",
       "       [17.04160686],\n",
       "       [ 3.9398177 ],\n",
       "       [17.94442356],\n",
       "       [21.44902393],\n",
       "       [22.47529851],\n",
       "       [18.08475786],\n",
       "       [ 4.74452174],\n",
       "       [35.85935098],\n",
       "       [37.18629545],\n",
       "       [31.49935891],\n",
       "       [36.34573516],\n",
       "       [ 7.90750929],\n",
       "       [12.08954322],\n",
       "       [18.19231931],\n",
       "       [20.10030611],\n",
       "       [27.7029134 ],\n",
       "       [ 3.97194584],\n",
       "       [25.82642531],\n",
       "       [28.30001807],\n",
       "       [32.76259078],\n",
       "       [29.78050623],\n",
       "       [ 6.08066267],\n",
       "       [12.23610313],\n",
       "       [12.89356262],\n",
       "       [13.85454921],\n",
       "       [10.86787936],\n",
       "       [ 2.62585518],\n",
       "       [ 7.82369361],\n",
       "       [11.44313873],\n",
       "       [ 8.69300345],\n",
       "       [ 7.76770404],\n",
       "       [ 1.98400537],\n",
       "       [33.89472299],\n",
       "       [18.86975034],\n",
       "       [18.74361919],\n",
       "       [12.06625222],\n",
       "       [ 3.64406255],\n",
       "       [16.7472345 ],\n",
       "       [16.93971633],\n",
       "       [20.09218979],\n",
       "       [18.55329399],\n",
       "       [ 3.77013306],\n",
       "       [ 9.51484032],\n",
       "       [13.885182  ],\n",
       "       [11.03032895],\n",
       "       [12.63002764],\n",
       "       [ 2.91779719],\n",
       "       [21.98799407],\n",
       "       [22.30615656],\n",
       "       [23.70462258],\n",
       "       [25.10040161],\n",
       "       [ 4.92242262],\n",
       "       [19.19993769],\n",
       "       [20.60205969],\n",
       "       [15.80046169],\n",
       "       [25.15657164],\n",
       "       [ 6.87624838],\n",
       "       [11.82408714],\n",
       "       [38.84142693],\n",
       "       [25.91366058],\n",
       "       [16.81374071],\n",
       "       [ 2.71208505]])"
      ]
     },
     "execution_count": 34,
     "metadata": {},
     "output_type": "execute_result"
    }
   ],
   "source": [
    "y1"
   ]
  },
  {
   "cell_type": "markdown",
   "id": "cac592a0",
   "metadata": {},
   "source": [
    "#### n_killed_per_100000 (y2)"
   ]
  },
  {
   "cell_type": "code",
   "execution_count": 42,
   "id": "bab7d48d",
   "metadata": {},
   "outputs": [],
   "source": [
    "# Reshape the variables into NumPy arrays and put them into separate objects.\n",
    "\n",
    "X2 = df_agg['lawtotal'].values.reshape(-1,1)\n",
    "y2= df_agg['n_killed_per_100000'].values.reshape(-1,1)"
   ]
  },
  {
   "cell_type": "markdown",
   "id": "7a36e941",
   "metadata": {},
   "source": [
    "#### n_injured_per_100000 (y3)"
   ]
  },
  {
   "cell_type": "code",
   "execution_count": 43,
   "id": "3e4e9ee3",
   "metadata": {},
   "outputs": [],
   "source": [
    "# Reshape the variables into NumPy arrays and put them into separate objects.\n",
    "\n",
    "X3 = df_agg['lawtotal'].values.reshape(-1,1)\n",
    "y3= df_agg['n_injured_per_100000'].values.reshape(-1,1)"
   ]
  },
  {
   "cell_type": "markdown",
   "id": "c9214aca",
   "metadata": {},
   "source": [
    "#### 'n_guns_involved_per_100000' (y4)"
   ]
  },
  {
   "cell_type": "code",
   "execution_count": 44,
   "id": "f0408027",
   "metadata": {},
   "outputs": [],
   "source": [
    "# Reshape the variables into NumPy arrays and put them into separate objects.\n",
    "\n",
    "X4 = df_agg['lawtotal'].values.reshape(-1,1)\n",
    "y4= df_agg['n_guns_involved_per_100000'].values.reshape(-1,1)"
   ]
  },
  {
   "cell_type": "markdown",
   "id": "9d4f1cc9",
   "metadata": {},
   "source": [
    "#### 7: Split the data into two sets: a training set and a test set."
   ]
  },
  {
   "cell_type": "markdown",
   "id": "26a0d1c5",
   "metadata": {},
   "source": [
    "#### incidents (y1)"
   ]
  },
  {
   "cell_type": "code",
   "execution_count": 45,
   "id": "a2ed41b1",
   "metadata": {},
   "outputs": [],
   "source": [
    "# Split data into a training set and a test set. incidents\n",
    "\n",
    "X1_train, X1_test, y1_train, y1_test = train_test_split(X1, y1, test_size=0.3, random_state=0)"
   ]
  },
  {
   "cell_type": "markdown",
   "id": "b1c38c50",
   "metadata": {},
   "source": [
    "#### n_killed (y2)"
   ]
  },
  {
   "cell_type": "code",
   "execution_count": 46,
   "id": "fa2ad53f",
   "metadata": {},
   "outputs": [],
   "source": [
    "# Split data into a training set and a test set. killed\n",
    "\n",
    "X2_train, X2_test, y2_train, y2_test = train_test_split(X2, y2, test_size=0.3, random_state=0)"
   ]
  },
  {
   "cell_type": "markdown",
   "id": "820e1384",
   "metadata": {},
   "source": [
    "#### n_injured (y3)"
   ]
  },
  {
   "cell_type": "code",
   "execution_count": 47,
   "id": "976f2d8f",
   "metadata": {},
   "outputs": [],
   "source": [
    "# Split data into a training set and a test set. injured\n",
    "\n",
    "X3_train, X3_test, y3_train, y3_test = train_test_split(X3, y3, test_size=0.3, random_state=0)"
   ]
  },
  {
   "cell_type": "markdown",
   "id": "14c81052",
   "metadata": {},
   "source": [
    "#### n_guns (y4)"
   ]
  },
  {
   "cell_type": "code",
   "execution_count": 48,
   "id": "14a15f44",
   "metadata": {},
   "outputs": [],
   "source": [
    "# Split data into a training set and a test set. n guns\n",
    "\n",
    "X4_train, X4_test, y4_train, y4_test = train_test_split(X4, y4, test_size=0.3, random_state=0)"
   ]
  },
  {
   "cell_type": "markdown",
   "id": "44d01b85",
   "metadata": {},
   "source": [
    "# Regression incidents"
   ]
  },
  {
   "cell_type": "markdown",
   "id": "6049d592",
   "metadata": {},
   "source": [
    "#### 8: Run a linear regression on the data.\n",
    "\n",
    "- First, fit the model you created to the training set.\n",
    "- Then, create a prediction for y on the test set."
   ]
  },
  {
   "cell_type": "code",
   "execution_count": 52,
   "id": "51b322ef",
   "metadata": {},
   "outputs": [],
   "source": [
    "# Create a regression object. incidents\n",
    "\n",
    "regression = LinearRegression()  # This is the regression object, which will be fit onto the training set."
   ]
  },
  {
   "cell_type": "markdown",
   "id": "de42d11d",
   "metadata": {},
   "source": [
    "#### incidents (y1)"
   ]
  },
  {
   "cell_type": "code",
   "execution_count": 53,
   "id": "1a3512e4",
   "metadata": {},
   "outputs": [
    {
     "data": {
      "text/html": [
       "<style>#sk-container-id-2 {color: black;}#sk-container-id-2 pre{padding: 0;}#sk-container-id-2 div.sk-toggleable {background-color: white;}#sk-container-id-2 label.sk-toggleable__label {cursor: pointer;display: block;width: 100%;margin-bottom: 0;padding: 0.3em;box-sizing: border-box;text-align: center;}#sk-container-id-2 label.sk-toggleable__label-arrow:before {content: \"▸\";float: left;margin-right: 0.25em;color: #696969;}#sk-container-id-2 label.sk-toggleable__label-arrow:hover:before {color: black;}#sk-container-id-2 div.sk-estimator:hover label.sk-toggleable__label-arrow:before {color: black;}#sk-container-id-2 div.sk-toggleable__content {max-height: 0;max-width: 0;overflow: hidden;text-align: left;background-color: #f0f8ff;}#sk-container-id-2 div.sk-toggleable__content pre {margin: 0.2em;color: black;border-radius: 0.25em;background-color: #f0f8ff;}#sk-container-id-2 input.sk-toggleable__control:checked~div.sk-toggleable__content {max-height: 200px;max-width: 100%;overflow: auto;}#sk-container-id-2 input.sk-toggleable__control:checked~label.sk-toggleable__label-arrow:before {content: \"▾\";}#sk-container-id-2 div.sk-estimator input.sk-toggleable__control:checked~label.sk-toggleable__label {background-color: #d4ebff;}#sk-container-id-2 div.sk-label input.sk-toggleable__control:checked~label.sk-toggleable__label {background-color: #d4ebff;}#sk-container-id-2 input.sk-hidden--visually {border: 0;clip: rect(1px 1px 1px 1px);clip: rect(1px, 1px, 1px, 1px);height: 1px;margin: -1px;overflow: hidden;padding: 0;position: absolute;width: 1px;}#sk-container-id-2 div.sk-estimator {font-family: monospace;background-color: #f0f8ff;border: 1px dotted black;border-radius: 0.25em;box-sizing: border-box;margin-bottom: 0.5em;}#sk-container-id-2 div.sk-estimator:hover {background-color: #d4ebff;}#sk-container-id-2 div.sk-parallel-item::after {content: \"\";width: 100%;border-bottom: 1px solid gray;flex-grow: 1;}#sk-container-id-2 div.sk-label:hover label.sk-toggleable__label {background-color: #d4ebff;}#sk-container-id-2 div.sk-serial::before {content: \"\";position: absolute;border-left: 1px solid gray;box-sizing: border-box;top: 0;bottom: 0;left: 50%;z-index: 0;}#sk-container-id-2 div.sk-serial {display: flex;flex-direction: column;align-items: center;background-color: white;padding-right: 0.2em;padding-left: 0.2em;position: relative;}#sk-container-id-2 div.sk-item {position: relative;z-index: 1;}#sk-container-id-2 div.sk-parallel {display: flex;align-items: stretch;justify-content: center;background-color: white;position: relative;}#sk-container-id-2 div.sk-item::before, #sk-container-id-2 div.sk-parallel-item::before {content: \"\";position: absolute;border-left: 1px solid gray;box-sizing: border-box;top: 0;bottom: 0;left: 50%;z-index: -1;}#sk-container-id-2 div.sk-parallel-item {display: flex;flex-direction: column;z-index: 1;position: relative;background-color: white;}#sk-container-id-2 div.sk-parallel-item:first-child::after {align-self: flex-end;width: 50%;}#sk-container-id-2 div.sk-parallel-item:last-child::after {align-self: flex-start;width: 50%;}#sk-container-id-2 div.sk-parallel-item:only-child::after {width: 0;}#sk-container-id-2 div.sk-dashed-wrapped {border: 1px dashed gray;margin: 0 0.4em 0.5em 0.4em;box-sizing: border-box;padding-bottom: 0.4em;background-color: white;}#sk-container-id-2 div.sk-label label {font-family: monospace;font-weight: bold;display: inline-block;line-height: 1.2em;}#sk-container-id-2 div.sk-label-container {text-align: center;}#sk-container-id-2 div.sk-container {/* jupyter's `normalize.less` sets `[hidden] { display: none; }` but bootstrap.min.css set `[hidden] { display: none !important; }` so we also need the `!important` here to be able to override the default hidden behavior on the sphinx rendered scikit-learn.org. See: https://github.com/scikit-learn/scikit-learn/issues/21755 */display: inline-block !important;position: relative;}#sk-container-id-2 div.sk-text-repr-fallback {display: none;}</style><div id=\"sk-container-id-2\" class=\"sk-top-container\"><div class=\"sk-text-repr-fallback\"><pre>LinearRegression()</pre><b>In a Jupyter environment, please rerun this cell to show the HTML representation or trust the notebook. <br />On GitHub, the HTML representation is unable to render, please try loading this page with nbviewer.org.</b></div><div class=\"sk-container\" hidden><div class=\"sk-item\"><div class=\"sk-estimator sk-toggleable\"><input class=\"sk-toggleable__control sk-hidden--visually\" id=\"sk-estimator-id-2\" type=\"checkbox\" checked><label for=\"sk-estimator-id-2\" class=\"sk-toggleable__label sk-toggleable__label-arrow\">LinearRegression</label><div class=\"sk-toggleable__content\"><pre>LinearRegression()</pre></div></div></div></div></div>"
      ],
      "text/plain": [
       "LinearRegression()"
      ]
     },
     "execution_count": 53,
     "metadata": {},
     "output_type": "execute_result"
    }
   ],
   "source": [
    "# Fit the regression object onto the training set.\n",
    "\n",
    "regression.fit(X1_train, y1_train)"
   ]
  },
  {
   "cell_type": "code",
   "execution_count": 54,
   "id": "e0a46e98",
   "metadata": {},
   "outputs": [],
   "source": [
    "# Predict the values of y using X.\n",
    "\n",
    "y1_predicted = regression.predict(X1_test)"
   ]
  },
  {
   "cell_type": "markdown",
   "id": "5ef59078",
   "metadata": {},
   "source": [
    "#### n_killed (y2)"
   ]
  },
  {
   "cell_type": "code",
   "execution_count": 60,
   "id": "9c06e4c3",
   "metadata": {},
   "outputs": [
    {
     "data": {
      "text/html": [
       "<style>#sk-container-id-3 {color: black;}#sk-container-id-3 pre{padding: 0;}#sk-container-id-3 div.sk-toggleable {background-color: white;}#sk-container-id-3 label.sk-toggleable__label {cursor: pointer;display: block;width: 100%;margin-bottom: 0;padding: 0.3em;box-sizing: border-box;text-align: center;}#sk-container-id-3 label.sk-toggleable__label-arrow:before {content: \"▸\";float: left;margin-right: 0.25em;color: #696969;}#sk-container-id-3 label.sk-toggleable__label-arrow:hover:before {color: black;}#sk-container-id-3 div.sk-estimator:hover label.sk-toggleable__label-arrow:before {color: black;}#sk-container-id-3 div.sk-toggleable__content {max-height: 0;max-width: 0;overflow: hidden;text-align: left;background-color: #f0f8ff;}#sk-container-id-3 div.sk-toggleable__content pre {margin: 0.2em;color: black;border-radius: 0.25em;background-color: #f0f8ff;}#sk-container-id-3 input.sk-toggleable__control:checked~div.sk-toggleable__content {max-height: 200px;max-width: 100%;overflow: auto;}#sk-container-id-3 input.sk-toggleable__control:checked~label.sk-toggleable__label-arrow:before {content: \"▾\";}#sk-container-id-3 div.sk-estimator input.sk-toggleable__control:checked~label.sk-toggleable__label {background-color: #d4ebff;}#sk-container-id-3 div.sk-label input.sk-toggleable__control:checked~label.sk-toggleable__label {background-color: #d4ebff;}#sk-container-id-3 input.sk-hidden--visually {border: 0;clip: rect(1px 1px 1px 1px);clip: rect(1px, 1px, 1px, 1px);height: 1px;margin: -1px;overflow: hidden;padding: 0;position: absolute;width: 1px;}#sk-container-id-3 div.sk-estimator {font-family: monospace;background-color: #f0f8ff;border: 1px dotted black;border-radius: 0.25em;box-sizing: border-box;margin-bottom: 0.5em;}#sk-container-id-3 div.sk-estimator:hover {background-color: #d4ebff;}#sk-container-id-3 div.sk-parallel-item::after {content: \"\";width: 100%;border-bottom: 1px solid gray;flex-grow: 1;}#sk-container-id-3 div.sk-label:hover label.sk-toggleable__label {background-color: #d4ebff;}#sk-container-id-3 div.sk-serial::before {content: \"\";position: absolute;border-left: 1px solid gray;box-sizing: border-box;top: 0;bottom: 0;left: 50%;z-index: 0;}#sk-container-id-3 div.sk-serial {display: flex;flex-direction: column;align-items: center;background-color: white;padding-right: 0.2em;padding-left: 0.2em;position: relative;}#sk-container-id-3 div.sk-item {position: relative;z-index: 1;}#sk-container-id-3 div.sk-parallel {display: flex;align-items: stretch;justify-content: center;background-color: white;position: relative;}#sk-container-id-3 div.sk-item::before, #sk-container-id-3 div.sk-parallel-item::before {content: \"\";position: absolute;border-left: 1px solid gray;box-sizing: border-box;top: 0;bottom: 0;left: 50%;z-index: -1;}#sk-container-id-3 div.sk-parallel-item {display: flex;flex-direction: column;z-index: 1;position: relative;background-color: white;}#sk-container-id-3 div.sk-parallel-item:first-child::after {align-self: flex-end;width: 50%;}#sk-container-id-3 div.sk-parallel-item:last-child::after {align-self: flex-start;width: 50%;}#sk-container-id-3 div.sk-parallel-item:only-child::after {width: 0;}#sk-container-id-3 div.sk-dashed-wrapped {border: 1px dashed gray;margin: 0 0.4em 0.5em 0.4em;box-sizing: border-box;padding-bottom: 0.4em;background-color: white;}#sk-container-id-3 div.sk-label label {font-family: monospace;font-weight: bold;display: inline-block;line-height: 1.2em;}#sk-container-id-3 div.sk-label-container {text-align: center;}#sk-container-id-3 div.sk-container {/* jupyter's `normalize.less` sets `[hidden] { display: none; }` but bootstrap.min.css set `[hidden] { display: none !important; }` so we also need the `!important` here to be able to override the default hidden behavior on the sphinx rendered scikit-learn.org. See: https://github.com/scikit-learn/scikit-learn/issues/21755 */display: inline-block !important;position: relative;}#sk-container-id-3 div.sk-text-repr-fallback {display: none;}</style><div id=\"sk-container-id-3\" class=\"sk-top-container\"><div class=\"sk-text-repr-fallback\"><pre>LinearRegression()</pre><b>In a Jupyter environment, please rerun this cell to show the HTML representation or trust the notebook. <br />On GitHub, the HTML representation is unable to render, please try loading this page with nbviewer.org.</b></div><div class=\"sk-container\" hidden><div class=\"sk-item\"><div class=\"sk-estimator sk-toggleable\"><input class=\"sk-toggleable__control sk-hidden--visually\" id=\"sk-estimator-id-3\" type=\"checkbox\" checked><label for=\"sk-estimator-id-3\" class=\"sk-toggleable__label sk-toggleable__label-arrow\">LinearRegression</label><div class=\"sk-toggleable__content\"><pre>LinearRegression()</pre></div></div></div></div></div>"
      ],
      "text/plain": [
       "LinearRegression()"
      ]
     },
     "execution_count": 60,
     "metadata": {},
     "output_type": "execute_result"
    }
   ],
   "source": [
    "# Fit the regression object onto the training set.\n",
    "\n",
    "regression.fit(X2_train, y2_train)"
   ]
  },
  {
   "cell_type": "code",
   "execution_count": 61,
   "id": "0dd8e6a1",
   "metadata": {},
   "outputs": [],
   "source": [
    "# Predict the values of y using X.\n",
    "\n",
    "y2_predicted = regression.predict(X2_test)"
   ]
  },
  {
   "cell_type": "markdown",
   "id": "2e3881c9",
   "metadata": {},
   "source": [
    "#### n_injured (y3)"
   ]
  },
  {
   "cell_type": "code",
   "execution_count": 67,
   "id": "6c7b6ea9",
   "metadata": {},
   "outputs": [
    {
     "data": {
      "text/html": [
       "<style>#sk-container-id-4 {color: black;}#sk-container-id-4 pre{padding: 0;}#sk-container-id-4 div.sk-toggleable {background-color: white;}#sk-container-id-4 label.sk-toggleable__label {cursor: pointer;display: block;width: 100%;margin-bottom: 0;padding: 0.3em;box-sizing: border-box;text-align: center;}#sk-container-id-4 label.sk-toggleable__label-arrow:before {content: \"▸\";float: left;margin-right: 0.25em;color: #696969;}#sk-container-id-4 label.sk-toggleable__label-arrow:hover:before {color: black;}#sk-container-id-4 div.sk-estimator:hover label.sk-toggleable__label-arrow:before {color: black;}#sk-container-id-4 div.sk-toggleable__content {max-height: 0;max-width: 0;overflow: hidden;text-align: left;background-color: #f0f8ff;}#sk-container-id-4 div.sk-toggleable__content pre {margin: 0.2em;color: black;border-radius: 0.25em;background-color: #f0f8ff;}#sk-container-id-4 input.sk-toggleable__control:checked~div.sk-toggleable__content {max-height: 200px;max-width: 100%;overflow: auto;}#sk-container-id-4 input.sk-toggleable__control:checked~label.sk-toggleable__label-arrow:before {content: \"▾\";}#sk-container-id-4 div.sk-estimator input.sk-toggleable__control:checked~label.sk-toggleable__label {background-color: #d4ebff;}#sk-container-id-4 div.sk-label input.sk-toggleable__control:checked~label.sk-toggleable__label {background-color: #d4ebff;}#sk-container-id-4 input.sk-hidden--visually {border: 0;clip: rect(1px 1px 1px 1px);clip: rect(1px, 1px, 1px, 1px);height: 1px;margin: -1px;overflow: hidden;padding: 0;position: absolute;width: 1px;}#sk-container-id-4 div.sk-estimator {font-family: monospace;background-color: #f0f8ff;border: 1px dotted black;border-radius: 0.25em;box-sizing: border-box;margin-bottom: 0.5em;}#sk-container-id-4 div.sk-estimator:hover {background-color: #d4ebff;}#sk-container-id-4 div.sk-parallel-item::after {content: \"\";width: 100%;border-bottom: 1px solid gray;flex-grow: 1;}#sk-container-id-4 div.sk-label:hover label.sk-toggleable__label {background-color: #d4ebff;}#sk-container-id-4 div.sk-serial::before {content: \"\";position: absolute;border-left: 1px solid gray;box-sizing: border-box;top: 0;bottom: 0;left: 50%;z-index: 0;}#sk-container-id-4 div.sk-serial {display: flex;flex-direction: column;align-items: center;background-color: white;padding-right: 0.2em;padding-left: 0.2em;position: relative;}#sk-container-id-4 div.sk-item {position: relative;z-index: 1;}#sk-container-id-4 div.sk-parallel {display: flex;align-items: stretch;justify-content: center;background-color: white;position: relative;}#sk-container-id-4 div.sk-item::before, #sk-container-id-4 div.sk-parallel-item::before {content: \"\";position: absolute;border-left: 1px solid gray;box-sizing: border-box;top: 0;bottom: 0;left: 50%;z-index: -1;}#sk-container-id-4 div.sk-parallel-item {display: flex;flex-direction: column;z-index: 1;position: relative;background-color: white;}#sk-container-id-4 div.sk-parallel-item:first-child::after {align-self: flex-end;width: 50%;}#sk-container-id-4 div.sk-parallel-item:last-child::after {align-self: flex-start;width: 50%;}#sk-container-id-4 div.sk-parallel-item:only-child::after {width: 0;}#sk-container-id-4 div.sk-dashed-wrapped {border: 1px dashed gray;margin: 0 0.4em 0.5em 0.4em;box-sizing: border-box;padding-bottom: 0.4em;background-color: white;}#sk-container-id-4 div.sk-label label {font-family: monospace;font-weight: bold;display: inline-block;line-height: 1.2em;}#sk-container-id-4 div.sk-label-container {text-align: center;}#sk-container-id-4 div.sk-container {/* jupyter's `normalize.less` sets `[hidden] { display: none; }` but bootstrap.min.css set `[hidden] { display: none !important; }` so we also need the `!important` here to be able to override the default hidden behavior on the sphinx rendered scikit-learn.org. See: https://github.com/scikit-learn/scikit-learn/issues/21755 */display: inline-block !important;position: relative;}#sk-container-id-4 div.sk-text-repr-fallback {display: none;}</style><div id=\"sk-container-id-4\" class=\"sk-top-container\"><div class=\"sk-text-repr-fallback\"><pre>LinearRegression()</pre><b>In a Jupyter environment, please rerun this cell to show the HTML representation or trust the notebook. <br />On GitHub, the HTML representation is unable to render, please try loading this page with nbviewer.org.</b></div><div class=\"sk-container\" hidden><div class=\"sk-item\"><div class=\"sk-estimator sk-toggleable\"><input class=\"sk-toggleable__control sk-hidden--visually\" id=\"sk-estimator-id-4\" type=\"checkbox\" checked><label for=\"sk-estimator-id-4\" class=\"sk-toggleable__label sk-toggleable__label-arrow\">LinearRegression</label><div class=\"sk-toggleable__content\"><pre>LinearRegression()</pre></div></div></div></div></div>"
      ],
      "text/plain": [
       "LinearRegression()"
      ]
     },
     "execution_count": 67,
     "metadata": {},
     "output_type": "execute_result"
    }
   ],
   "source": [
    "# Fit the regression object onto the training set.\n",
    "\n",
    "regression.fit(X3_train, y3_train)"
   ]
  },
  {
   "cell_type": "code",
   "execution_count": 68,
   "id": "42784a21",
   "metadata": {},
   "outputs": [],
   "source": [
    "# Predict the values of y using X.\n",
    "\n",
    "y3_predicted = regression.predict(X3_test)"
   ]
  },
  {
   "cell_type": "markdown",
   "id": "f9c09dc1",
   "metadata": {},
   "source": [
    "#### n_guns_involved (y4)"
   ]
  },
  {
   "cell_type": "code",
   "execution_count": 76,
   "id": "10dfa03c",
   "metadata": {},
   "outputs": [
    {
     "data": {
      "text/html": [
       "<style>#sk-container-id-5 {color: black;}#sk-container-id-5 pre{padding: 0;}#sk-container-id-5 div.sk-toggleable {background-color: white;}#sk-container-id-5 label.sk-toggleable__label {cursor: pointer;display: block;width: 100%;margin-bottom: 0;padding: 0.3em;box-sizing: border-box;text-align: center;}#sk-container-id-5 label.sk-toggleable__label-arrow:before {content: \"▸\";float: left;margin-right: 0.25em;color: #696969;}#sk-container-id-5 label.sk-toggleable__label-arrow:hover:before {color: black;}#sk-container-id-5 div.sk-estimator:hover label.sk-toggleable__label-arrow:before {color: black;}#sk-container-id-5 div.sk-toggleable__content {max-height: 0;max-width: 0;overflow: hidden;text-align: left;background-color: #f0f8ff;}#sk-container-id-5 div.sk-toggleable__content pre {margin: 0.2em;color: black;border-radius: 0.25em;background-color: #f0f8ff;}#sk-container-id-5 input.sk-toggleable__control:checked~div.sk-toggleable__content {max-height: 200px;max-width: 100%;overflow: auto;}#sk-container-id-5 input.sk-toggleable__control:checked~label.sk-toggleable__label-arrow:before {content: \"▾\";}#sk-container-id-5 div.sk-estimator input.sk-toggleable__control:checked~label.sk-toggleable__label {background-color: #d4ebff;}#sk-container-id-5 div.sk-label input.sk-toggleable__control:checked~label.sk-toggleable__label {background-color: #d4ebff;}#sk-container-id-5 input.sk-hidden--visually {border: 0;clip: rect(1px 1px 1px 1px);clip: rect(1px, 1px, 1px, 1px);height: 1px;margin: -1px;overflow: hidden;padding: 0;position: absolute;width: 1px;}#sk-container-id-5 div.sk-estimator {font-family: monospace;background-color: #f0f8ff;border: 1px dotted black;border-radius: 0.25em;box-sizing: border-box;margin-bottom: 0.5em;}#sk-container-id-5 div.sk-estimator:hover {background-color: #d4ebff;}#sk-container-id-5 div.sk-parallel-item::after {content: \"\";width: 100%;border-bottom: 1px solid gray;flex-grow: 1;}#sk-container-id-5 div.sk-label:hover label.sk-toggleable__label {background-color: #d4ebff;}#sk-container-id-5 div.sk-serial::before {content: \"\";position: absolute;border-left: 1px solid gray;box-sizing: border-box;top: 0;bottom: 0;left: 50%;z-index: 0;}#sk-container-id-5 div.sk-serial {display: flex;flex-direction: column;align-items: center;background-color: white;padding-right: 0.2em;padding-left: 0.2em;position: relative;}#sk-container-id-5 div.sk-item {position: relative;z-index: 1;}#sk-container-id-5 div.sk-parallel {display: flex;align-items: stretch;justify-content: center;background-color: white;position: relative;}#sk-container-id-5 div.sk-item::before, #sk-container-id-5 div.sk-parallel-item::before {content: \"\";position: absolute;border-left: 1px solid gray;box-sizing: border-box;top: 0;bottom: 0;left: 50%;z-index: -1;}#sk-container-id-5 div.sk-parallel-item {display: flex;flex-direction: column;z-index: 1;position: relative;background-color: white;}#sk-container-id-5 div.sk-parallel-item:first-child::after {align-self: flex-end;width: 50%;}#sk-container-id-5 div.sk-parallel-item:last-child::after {align-self: flex-start;width: 50%;}#sk-container-id-5 div.sk-parallel-item:only-child::after {width: 0;}#sk-container-id-5 div.sk-dashed-wrapped {border: 1px dashed gray;margin: 0 0.4em 0.5em 0.4em;box-sizing: border-box;padding-bottom: 0.4em;background-color: white;}#sk-container-id-5 div.sk-label label {font-family: monospace;font-weight: bold;display: inline-block;line-height: 1.2em;}#sk-container-id-5 div.sk-label-container {text-align: center;}#sk-container-id-5 div.sk-container {/* jupyter's `normalize.less` sets `[hidden] { display: none; }` but bootstrap.min.css set `[hidden] { display: none !important; }` so we also need the `!important` here to be able to override the default hidden behavior on the sphinx rendered scikit-learn.org. See: https://github.com/scikit-learn/scikit-learn/issues/21755 */display: inline-block !important;position: relative;}#sk-container-id-5 div.sk-text-repr-fallback {display: none;}</style><div id=\"sk-container-id-5\" class=\"sk-top-container\"><div class=\"sk-text-repr-fallback\"><pre>LinearRegression()</pre><b>In a Jupyter environment, please rerun this cell to show the HTML representation or trust the notebook. <br />On GitHub, the HTML representation is unable to render, please try loading this page with nbviewer.org.</b></div><div class=\"sk-container\" hidden><div class=\"sk-item\"><div class=\"sk-estimator sk-toggleable\"><input class=\"sk-toggleable__control sk-hidden--visually\" id=\"sk-estimator-id-5\" type=\"checkbox\" checked><label for=\"sk-estimator-id-5\" class=\"sk-toggleable__label sk-toggleable__label-arrow\">LinearRegression</label><div class=\"sk-toggleable__content\"><pre>LinearRegression()</pre></div></div></div></div></div>"
      ],
      "text/plain": [
       "LinearRegression()"
      ]
     },
     "execution_count": 76,
     "metadata": {},
     "output_type": "execute_result"
    }
   ],
   "source": [
    "# Fit the regression object onto the training set.\n",
    "\n",
    "regression.fit(X4_train, y4_train)"
   ]
  },
  {
   "cell_type": "code",
   "execution_count": 77,
   "id": "af36d4bc",
   "metadata": {},
   "outputs": [],
   "source": [
    "# Predict the values of y using X.\n",
    "\n",
    "y4_predicted = regression.predict(X4_test)"
   ]
  },
  {
   "cell_type": "markdown",
   "id": "e9c77281",
   "metadata": {},
   "source": [
    "#### 9: Create a plot that shows the regression line on the test set."
   ]
  },
  {
   "cell_type": "markdown",
   "id": "f5084cbf",
   "metadata": {},
   "source": [
    "#### Incidents (y1)"
   ]
  },
  {
   "cell_type": "code",
   "execution_count": 55,
   "id": "d681cb1d",
   "metadata": {
    "scrolled": true
   },
   "outputs": [
    {
     "data": {
      "image/png": "[encoded data removed]",
      "text/plain": [
       "<Figure size 640x480 with 1 Axes>"
      ]
     },
     "metadata": {},
     "output_type": "display_data"
    }
   ],
   "source": [
    "# Create a plot that shows the regression line from the model on the test set.\n",
    "\n",
    "plot_test = plt\n",
    "plot_test.scatter(X1_test, y1_test, color='gray', s = 15)\n",
    "plot_test.plot(X1_test, y1_predicted, color='red', linewidth =3)\n",
    "plot_test.title('lawtotal vs. incidents_per_100000  (Test set)')\n",
    "plot_test.xlabel('lawtotal')\n",
    "plot_test.ylabel('incidents_per_100000')\n",
    "plot_test.show()"
   ]
  },
  {
   "cell_type": "markdown",
   "id": "b0740b73",
   "metadata": {},
   "source": [
    "#### n_killed (y2)"
   ]
  },
  {
   "cell_type": "code",
   "execution_count": 62,
   "id": "4acb0810",
   "metadata": {
    "scrolled": true
   },
   "outputs": [
    {
     "data": {
      "image/png": "[encoded data removed]",
      "text/plain": [
       "<Figure size 640x480 with 1 Axes>"
      ]
     },
     "metadata": {},
     "output_type": "display_data"
    }
   ],
   "source": [
    "# Create a plot that shows the regression line from the model on the test set.\n",
    "\n",
    "plot_test = plt\n",
    "plot_test.scatter(X2_test, y2_test, color='gray', s = 15)\n",
    "plot_test.plot(X2_test, y2_predicted, color='red', linewidth =3)\n",
    "plot_test.title('lawtotal vs. n_killed_per_100000  (Test set)')\n",
    "plot_test.xlabel('lawtotal')\n",
    "plot_test.ylabel('n_killed_per_100000')\n",
    "plot_test.show()"
   ]
  },
  {
   "cell_type": "markdown",
   "id": "bca82916",
   "metadata": {},
   "source": [
    "#### n_injured (y3)"
   ]
  },
  {
   "cell_type": "code",
   "execution_count": 70,
   "id": "604b1a5f",
   "metadata": {
    "scrolled": true
   },
   "outputs": [
    {
     "data": {
      "image/png": "[encoded data removed]",
      "text/plain": [
       "<Figure size 640x480 with 1 Axes>"
      ]
     },
     "metadata": {},
     "output_type": "display_data"
    }
   ],
   "source": [
    "# Create a plot that shows the regression line from the model on the test set.\n",
    "\n",
    "plot_test = plt\n",
    "plot_test.scatter(X3_test, y3_test, color='gray', s = 15)\n",
    "plot_test.plot(X3_test, y3_predicted, color='red', linewidth =3)\n",
    "plot_test.title('lawtotal vs. n_injured_per_100000 (Test set)')\n",
    "plot_test.xlabel('lawtotal')\n",
    "plot_test.ylabel('n_injured_per_100000')\n",
    "plot_test.show()"
   ]
  },
  {
   "cell_type": "markdown",
   "id": "3e67f5cc",
   "metadata": {},
   "source": [
    "#### n_guns (y4)"
   ]
  },
  {
   "cell_type": "code",
   "execution_count": 79,
   "id": "a4b4d7c6",
   "metadata": {
    "scrolled": true
   },
   "outputs": [
    {
     "data": {
      "image/png": "[encoded data removed]",
      "text/plain": [
       "<Figure size 640x480 with 1 Axes>"
      ]
     },
     "metadata": {},
     "output_type": "display_data"
    }
   ],
   "source": [
    "# Create a plot that shows the regression line from the model on the test set.\n",
    "\n",
    "plot_test = plt\n",
    "plot_test.scatter(X4_test, y4_test, color='gray', s = 15)\n",
    "plot_test.plot(X4_test, y4_predicted, color='red', linewidth =3)\n",
    "plot_test.title('lawtotal vs. n_guns_involved_per_100000 (Test set)')\n",
    "plot_test.xlabel('lawtotal')\n",
    "plot_test.ylabel('n_guns_involved_per_100000')\n",
    "plot_test.show()"
   ]
  },
  {
   "cell_type": "markdown",
   "id": "fa775fa2",
   "metadata": {},
   "source": [
    "#### 10: Write your own interpretation of how well the line appears to fit the data in a markdown cell."
   ]
  },
  {
   "cell_type": "markdown",
   "id": "a5f78811",
   "metadata": {},
   "source": [
    "#### The points are really far from the regression line in all 4 cases."
   ]
  },
  {
   "cell_type": "markdown",
   "id": "d9ffec38",
   "metadata": {},
   "source": [
    "#### 11: Check the model performance statistics—MSE and R2 score."
   ]
  },
  {
   "cell_type": "markdown",
   "id": "c29fba1b",
   "metadata": {},
   "source": [
    "#### incidents (y1)"
   ]
  },
  {
   "cell_type": "code",
   "execution_count": 56,
   "id": "1588d034",
   "metadata": {},
   "outputs": [],
   "source": [
    "# Create objects that contain the model summary statistics.\n",
    "\n",
    "rmse1 = mean_squared_error(y1_test, y1_predicted) # This is the mean squared error\n",
    "r2_1 = r2_score(y1_test, y1_predicted) # This is the R2 score. "
   ]
  },
  {
   "cell_type": "code",
   "execution_count": 57,
   "id": "6b15aafe",
   "metadata": {},
   "outputs": [
    {
     "name": "stdout",
     "output_type": "stream",
     "text": [
      "Slope: [[-0.07892797]]\n",
      "Mean squared error:  111.36024325901263\n",
      "R2 score:  0.01610004621495298\n"
     ]
    }
   ],
   "source": [
    "# Print the model summary statistics. This is where you evaluate the performance of the model.\n",
    "\n",
    "print('Slope:' ,regression.coef_)\n",
    "print('Mean squared error: ', rmse1)\n",
    "print('R2 score: ', r2_1)"
   ]
  },
  {
   "cell_type": "code",
   "execution_count": 58,
   "id": "26b703e7",
   "metadata": {
    "collapsed": true
   },
   "outputs": [
    {
     "data": {
      "text/plain": [
       "array([[18.80671871],\n",
       "       [19.20135855],\n",
       "       [18.88564668],\n",
       "       [13.91318472],\n",
       "       [18.96457465],\n",
       "       [17.38601529],\n",
       "       [18.80671871],\n",
       "       [19.20135855],\n",
       "       [14.62353643],\n",
       "       [13.91318472],\n",
       "       [18.72779074],\n",
       "       [16.51780765],\n",
       "       [18.096367  ],\n",
       "       [16.83351952],\n",
       "       [19.59599839],\n",
       "       [17.8595831 ],\n",
       "       [19.35921449],\n",
       "       [18.096367  ],\n",
       "       [18.96457465],\n",
       "       [14.70246439],\n",
       "       [13.91318472],\n",
       "       [19.28028652],\n",
       "       [18.33315091],\n",
       "       [16.51780765],\n",
       "       [18.96457465],\n",
       "       [18.88564668],\n",
       "       [19.51707042],\n",
       "       [19.35921449],\n",
       "       [15.57067204],\n",
       "       [16.75459155],\n",
       "       [19.28028652],\n",
       "       [19.43814245],\n",
       "       [16.67566358],\n",
       "       [18.49100684],\n",
       "       [18.64886278],\n",
       "       [18.56993481],\n",
       "       [18.01743904],\n",
       "       [19.51707042],\n",
       "       [11.54534569],\n",
       "       [19.43814245],\n",
       "       [19.59599839],\n",
       "       [19.12243058],\n",
       "       [18.096367  ],\n",
       "       [19.04350262],\n",
       "       [18.25422294],\n",
       "       [14.70246439],\n",
       "       [17.38601529],\n",
       "       [17.38601529],\n",
       "       [14.62353643],\n",
       "       [19.04350262],\n",
       "       [17.78065513],\n",
       "       [17.38601529],\n",
       "       [17.8595831 ],\n",
       "       [19.12243058],\n",
       "       [19.67492636],\n",
       "       [11.78212959],\n",
       "       [18.72779074],\n",
       "       [18.88564668],\n",
       "       [16.83351952],\n",
       "       [18.88564668],\n",
       "       [18.88564668],\n",
       "       [17.8595831 ],\n",
       "       [19.51707042],\n",
       "       [18.72779074],\n",
       "       [17.14923139],\n",
       "       [18.72779074],\n",
       "       [12.80819317],\n",
       "       [19.35921449],\n",
       "       [19.43814245],\n",
       "       [18.25422294],\n",
       "       [17.8595831 ],\n",
       "       [18.17529497],\n",
       "       [18.56993481],\n",
       "       [18.88564668],\n",
       "       [14.46568049]])"
      ]
     },
     "execution_count": 58,
     "metadata": {},
     "output_type": "execute_result"
    }
   ],
   "source": [
    "y1_predicted"
   ]
  },
  {
   "cell_type": "markdown",
   "id": "b63b7e9c",
   "metadata": {},
   "source": [
    "#### n_killed (y2)"
   ]
  },
  {
   "cell_type": "code",
   "execution_count": 63,
   "id": "9be44bd9",
   "metadata": {},
   "outputs": [],
   "source": [
    "# Create objects that contain the model summary statistics.\n",
    "\n",
    "rmse2 = mean_squared_error(y2_test, y2_predicted) # This is the mean squared error\n",
    "r2_2 = r2_score(y2_test, y2_predicted) # This is the R2 score. "
   ]
  },
  {
   "cell_type": "code",
   "execution_count": 64,
   "id": "784a42d0",
   "metadata": {},
   "outputs": [
    {
     "name": "stdout",
     "output_type": "stream",
     "text": [
      "Slope: [[-0.03297287]]\n",
      "Mean squared error:  6.636224557887091\n",
      "R2 score:  0.0507558104732726\n"
     ]
    }
   ],
   "source": [
    "# Print the model summary statistics. This is where you evaluate the performance of the model.\n",
    "\n",
    "print('Slope:' ,regression.coef_)\n",
    "print('Mean squared error: ', rmse2)\n",
    "print('R2 score: ', r2_2)"
   ]
  },
  {
   "cell_type": "code",
   "execution_count": 65,
   "id": "82fd0bec",
   "metadata": {
    "scrolled": true
   },
   "outputs": [
    {
     "data": {
      "text/plain": [
       "array([[4.40117692],\n",
       "       [4.56604125],\n",
       "       [4.43414979],\n",
       "       [2.35685927],\n",
       "       [4.46712265],\n",
       "       [3.80766535],\n",
       "       [4.40117692],\n",
       "       [4.56604125],\n",
       "       [2.65361506],\n",
       "       [2.35685927],\n",
       "       [4.36820406],\n",
       "       [3.44496383],\n",
       "       [4.10442114],\n",
       "       [3.57685529],\n",
       "       [4.73090558],\n",
       "       [4.00550254],\n",
       "       [4.63198698],\n",
       "       [4.10442114],\n",
       "       [4.46712265],\n",
       "       [2.68658793],\n",
       "       [2.35685927],\n",
       "       [4.59901411],\n",
       "       [4.20333973],\n",
       "       [3.44496383],\n",
       "       [4.46712265],\n",
       "       [4.43414979],\n",
       "       [4.69793271],\n",
       "       [4.63198698],\n",
       "       [3.04928945],\n",
       "       [3.54388243],\n",
       "       [4.59901411],\n",
       "       [4.66495985],\n",
       "       [3.51090956],\n",
       "       [4.26928546],\n",
       "       [4.33523119],\n",
       "       [4.30225833],\n",
       "       [4.07144827],\n",
       "       [4.69793271],\n",
       "       [1.36767332],\n",
       "       [4.66495985],\n",
       "       [4.73090558],\n",
       "       [4.53306838],\n",
       "       [4.10442114],\n",
       "       [4.50009552],\n",
       "       [4.17036687],\n",
       "       [2.68658793],\n",
       "       [3.80766535],\n",
       "       [3.80766535],\n",
       "       [2.65361506],\n",
       "       [4.50009552],\n",
       "       [3.97252967],\n",
       "       [3.80766535],\n",
       "       [4.00550254],\n",
       "       [4.53306838],\n",
       "       [4.76387844],\n",
       "       [1.46659191],\n",
       "       [4.36820406],\n",
       "       [4.43414979],\n",
       "       [3.57685529],\n",
       "       [4.43414979],\n",
       "       [4.43414979],\n",
       "       [4.00550254],\n",
       "       [4.69793271],\n",
       "       [4.36820406],\n",
       "       [3.70874675],\n",
       "       [4.36820406],\n",
       "       [1.89523916],\n",
       "       [4.63198698],\n",
       "       [4.66495985],\n",
       "       [4.17036687],\n",
       "       [4.00550254],\n",
       "       [4.137394  ],\n",
       "       [4.30225833],\n",
       "       [4.43414979],\n",
       "       [2.58766933]])"
      ]
     },
     "execution_count": 65,
     "metadata": {},
     "output_type": "execute_result"
    }
   ],
   "source": [
    "y2_predicted"
   ]
  },
  {
   "cell_type": "markdown",
   "id": "fec8862f",
   "metadata": {},
   "source": [
    "#### n_injured (y3)"
   ]
  },
  {
   "cell_type": "code",
   "execution_count": 71,
   "id": "1043e251",
   "metadata": {},
   "outputs": [],
   "source": [
    "# Create objects that contain the model summary statistics.\n",
    "\n",
    "rmse3 = mean_squared_error(y3_test, y3_predicted) # This is the mean squared error\n",
    "r2_3 = r2_score(y3_test, y3_predicted) # This is the R2 score. "
   ]
  },
  {
   "cell_type": "code",
   "execution_count": 72,
   "id": "624c9efc",
   "metadata": {},
   "outputs": [
    {
     "name": "stdout",
     "output_type": "stream",
     "text": [
      "Slope: [[-0.01766688]]\n",
      "Mean squared error:  29.29943113067763\n",
      "R2 score:  -0.013953875099115942\n"
     ]
    }
   ],
   "source": [
    "# Print the model summary statistics. This is where you evaluate the performance of the model.\n",
    "\n",
    "print('Slope:' ,regression.coef_)\n",
    "print('Mean squared error: ', rmse3)\n",
    "print('R2 score: ', r2_3)"
   ]
  },
  {
   "cell_type": "code",
   "execution_count": 73,
   "id": "0b869920",
   "metadata": {
    "scrolled": true
   },
   "outputs": [
    {
     "data": {
      "text/plain": [
       "array([[7.6830475 ],\n",
       "       [7.77138191],\n",
       "       [7.70071438],\n",
       "       [6.58770085],\n",
       "       [7.71838126],\n",
       "       [7.36504363],\n",
       "       [7.6830475 ],\n",
       "       [7.77138191],\n",
       "       [6.74670279],\n",
       "       [6.58770085],\n",
       "       [7.66538062],\n",
       "       [7.17070794],\n",
       "       [7.52404557],\n",
       "       [7.24137546],\n",
       "       [7.85971631],\n",
       "       [7.47104492],\n",
       "       [7.80671567],\n",
       "       [7.52404557],\n",
       "       [7.71838126],\n",
       "       [6.76436967],\n",
       "       [6.58770085],\n",
       "       [7.78904879],\n",
       "       [7.57704621],\n",
       "       [7.17070794],\n",
       "       [7.71838126],\n",
       "       [7.70071438],\n",
       "       [7.84204943],\n",
       "       [7.80671567],\n",
       "       [6.95870536],\n",
       "       [7.22370858],\n",
       "       [7.78904879],\n",
       "       [7.82438255],\n",
       "       [7.2060417 ],\n",
       "       [7.61237997],\n",
       "       [7.64771374],\n",
       "       [7.63004686],\n",
       "       [7.50637869],\n",
       "       [7.84204943],\n",
       "       [6.05769441],\n",
       "       [7.82438255],\n",
       "       [7.85971631],\n",
       "       [7.75371503],\n",
       "       [7.52404557],\n",
       "       [7.73604814],\n",
       "       [7.55937933],\n",
       "       [6.76436967],\n",
       "       [7.36504363],\n",
       "       [7.36504363],\n",
       "       [6.74670279],\n",
       "       [7.73604814],\n",
       "       [7.45337804],\n",
       "       [7.36504363],\n",
       "       [7.47104492],\n",
       "       [7.75371503],\n",
       "       [7.8773832 ],\n",
       "       [6.11069506],\n",
       "       [7.66538062],\n",
       "       [7.70071438],\n",
       "       [7.24137546],\n",
       "       [7.70071438],\n",
       "       [7.70071438],\n",
       "       [7.47104492],\n",
       "       [7.84204943],\n",
       "       [7.66538062],\n",
       "       [7.31204299],\n",
       "       [7.66538062],\n",
       "       [6.34036451],\n",
       "       [7.80671567],\n",
       "       [7.82438255],\n",
       "       [7.55937933],\n",
       "       [7.47104492],\n",
       "       [7.54171245],\n",
       "       [7.63004686],\n",
       "       [7.70071438],\n",
       "       [6.71136902]])"
      ]
     },
     "execution_count": 73,
     "metadata": {},
     "output_type": "execute_result"
    }
   ],
   "source": [
    "y3_predicted"
   ]
  },
  {
   "cell_type": "markdown",
   "id": "3fd63590",
   "metadata": {},
   "source": [
    "#### n_guns (y4)"
   ]
  },
  {
   "cell_type": "code",
   "execution_count": 80,
   "id": "0b7c23f1",
   "metadata": {},
   "outputs": [],
   "source": [
    "# Create objects that contain the model summary statistics.\n",
    "\n",
    "rmse4 = mean_squared_error(y4_test, y4_predicted) # This is the mean squared error\n",
    "r2_4 = r2_score(y4_test, y4_predicted) # This is the R2 score. "
   ]
  },
  {
   "cell_type": "code",
   "execution_count": 81,
   "id": "fff91d7e",
   "metadata": {},
   "outputs": [
    {
     "name": "stdout",
     "output_type": "stream",
     "text": [
      "Slope: [[-0.10400514]]\n",
      "Mean squared error:  205.21778204079476\n",
      "R2 score:  0.002679825396769475\n"
     ]
    }
   ],
   "source": [
    "# Print the model summary statistics. This is where you evaluate the performance of the model.\n",
    "\n",
    "print('Slope:' ,regression.coef_)\n",
    "print('Mean squared error: ', rmse4)\n",
    "print('R2 score: ', r2_4)"
   ]
  },
  {
   "cell_type": "code",
   "execution_count": 82,
   "id": "a25090f9",
   "metadata": {
    "scrolled": true
   },
   "outputs": [
    {
     "data": {
      "text/plain": [
       "array([[25.50329522],\n",
       "       [26.02332094],\n",
       "       [25.60730036],\n",
       "       [19.05497624],\n",
       "       [25.71130551],\n",
       "       [23.63120261],\n",
       "       [25.50329522],\n",
       "       [26.02332094],\n",
       "       [19.99102254],\n",
       "       [19.05497624],\n",
       "       [25.39929007],\n",
       "       [22.48714602],\n",
       "       [24.56724891],\n",
       "       [22.9031666 ],\n",
       "       [26.54334667],\n",
       "       [24.25523348],\n",
       "       [26.23133123],\n",
       "       [24.56724891],\n",
       "       [25.71130551],\n",
       "       [20.09502769],\n",
       "       [19.05497624],\n",
       "       [26.12732609],\n",
       "       [24.87926435],\n",
       "       [22.48714602],\n",
       "       [25.71130551],\n",
       "       [25.60730036],\n",
       "       [26.43934152],\n",
       "       [26.23133123],\n",
       "       [21.23908428],\n",
       "       [22.79916145],\n",
       "       [26.12732609],\n",
       "       [26.33533638],\n",
       "       [22.69515631],\n",
       "       [25.08727464],\n",
       "       [25.29528493],\n",
       "       [25.19127978],\n",
       "       [24.46324377],\n",
       "       [26.43934152],\n",
       "       [15.93482189],\n",
       "       [26.33533638],\n",
       "       [26.54334667],\n",
       "       [25.9193158 ],\n",
       "       [24.56724891],\n",
       "       [25.81531065],\n",
       "       [24.7752592 ],\n",
       "       [20.09502769],\n",
       "       [23.63120261],\n",
       "       [23.63120261],\n",
       "       [19.99102254],\n",
       "       [25.81531065],\n",
       "       [24.15122834],\n",
       "       [23.63120261],\n",
       "       [24.25523348],\n",
       "       [25.9193158 ],\n",
       "       [26.64735181],\n",
       "       [16.24683733],\n",
       "       [25.39929007],\n",
       "       [25.60730036],\n",
       "       [22.9031666 ],\n",
       "       [25.60730036],\n",
       "       [25.60730036],\n",
       "       [24.25523348],\n",
       "       [26.43934152],\n",
       "       [25.39929007],\n",
       "       [23.31918718],\n",
       "       [25.39929007],\n",
       "       [17.59890421],\n",
       "       [26.23133123],\n",
       "       [26.33533638],\n",
       "       [24.7752592 ],\n",
       "       [24.25523348],\n",
       "       [24.67125406],\n",
       "       [25.19127978],\n",
       "       [25.60730036],\n",
       "       [19.78301225]])"
      ]
     },
     "execution_count": 82,
     "metadata": {},
     "output_type": "execute_result"
    }
   ],
   "source": [
    "y4_predicted"
   ]
  },
  {
   "cell_type": "markdown",
   "id": "17e09a41",
   "metadata": {},
   "source": [
    "#### 12: Compare the predicted y values with the actual y values in a dataframe."
   ]
  },
  {
   "cell_type": "markdown",
   "id": "7b8200d1",
   "metadata": {},
   "source": [
    "#### incidents (y1)"
   ]
  },
  {
   "cell_type": "code",
   "execution_count": 59,
   "id": "83474fcd",
   "metadata": {
    "scrolled": true
   },
   "outputs": [
    {
     "data": {
      "text/html": [
       "<div>\n",
       "<style scoped>\n",
       "    .dataframe tbody tr th:only-of-type {\n",
       "        vertical-align: middle;\n",
       "    }\n",
       "\n",
       "    .dataframe tbody tr th {\n",
       "        vertical-align: top;\n",
       "    }\n",
       "\n",
       "    .dataframe thead th {\n",
       "        text-align: right;\n",
       "    }\n",
       "</style>\n",
       "<table border=\"1\" class=\"dataframe\">\n",
       "  <thead>\n",
       "    <tr style=\"text-align: right;\">\n",
       "      <th></th>\n",
       "      <th>Actual</th>\n",
       "      <th>Predicted</th>\n",
       "    </tr>\n",
       "  </thead>\n",
       "  <tbody>\n",
       "    <tr>\n",
       "      <th>0</th>\n",
       "      <td>16.747235</td>\n",
       "      <td>18.806719</td>\n",
       "    </tr>\n",
       "    <tr>\n",
       "      <th>1</th>\n",
       "      <td>26.869918</td>\n",
       "      <td>19.201359</td>\n",
       "    </tr>\n",
       "    <tr>\n",
       "      <th>2</th>\n",
       "      <td>18.370941</td>\n",
       "      <td>18.885647</td>\n",
       "    </tr>\n",
       "    <tr>\n",
       "      <th>3</th>\n",
       "      <td>12.834716</td>\n",
       "      <td>13.913185</td>\n",
       "    </tr>\n",
       "    <tr>\n",
       "      <th>4</th>\n",
       "      <td>4.074963</td>\n",
       "      <td>18.964575</td>\n",
       "    </tr>\n",
       "    <tr>\n",
       "      <th>5</th>\n",
       "      <td>20.400871</td>\n",
       "      <td>17.386015</td>\n",
       "    </tr>\n",
       "    <tr>\n",
       "      <th>6</th>\n",
       "      <td>36.345735</td>\n",
       "      <td>18.806719</td>\n",
       "    </tr>\n",
       "    <tr>\n",
       "      <th>7</th>\n",
       "      <td>26.530528</td>\n",
       "      <td>19.201359</td>\n",
       "    </tr>\n",
       "    <tr>\n",
       "      <th>8</th>\n",
       "      <td>40.750723</td>\n",
       "      <td>14.623536</td>\n",
       "    </tr>\n",
       "    <tr>\n",
       "      <th>9</th>\n",
       "      <td>9.757987</td>\n",
       "      <td>13.913185</td>\n",
       "    </tr>\n",
       "    <tr>\n",
       "      <th>10</th>\n",
       "      <td>7.767704</td>\n",
       "      <td>18.727791</td>\n",
       "    </tr>\n",
       "    <tr>\n",
       "      <th>11</th>\n",
       "      <td>13.885182</td>\n",
       "      <td>16.517808</td>\n",
       "    </tr>\n",
       "    <tr>\n",
       "      <th>12</th>\n",
       "      <td>14.244209</td>\n",
       "      <td>18.096367</td>\n",
       "    </tr>\n",
       "    <tr>\n",
       "      <th>13</th>\n",
       "      <td>14.408779</td>\n",
       "      <td>16.833520</td>\n",
       "    </tr>\n",
       "    <tr>\n",
       "      <th>14</th>\n",
       "      <td>24.074086</td>\n",
       "      <td>19.595998</td>\n",
       "    </tr>\n",
       "    <tr>\n",
       "      <th>15</th>\n",
       "      <td>22.035029</td>\n",
       "      <td>17.859583</td>\n",
       "    </tr>\n",
       "    <tr>\n",
       "      <th>16</th>\n",
       "      <td>27.702913</td>\n",
       "      <td>19.359214</td>\n",
       "    </tr>\n",
       "    <tr>\n",
       "      <th>17</th>\n",
       "      <td>4.004690</td>\n",
       "      <td>18.096367</td>\n",
       "    </tr>\n",
       "    <tr>\n",
       "      <th>18</th>\n",
       "      <td>20.110918</td>\n",
       "      <td>18.964575</td>\n",
       "    </tr>\n",
       "    <tr>\n",
       "      <th>19</th>\n",
       "      <td>21.652249</td>\n",
       "      <td>14.702464</td>\n",
       "    </tr>\n",
       "    <tr>\n",
       "      <th>20</th>\n",
       "      <td>14.856281</td>\n",
       "      <td>13.913185</td>\n",
       "    </tr>\n",
       "    <tr>\n",
       "      <th>21</th>\n",
       "      <td>21.446370</td>\n",
       "      <td>19.280287</td>\n",
       "    </tr>\n",
       "    <tr>\n",
       "      <th>22</th>\n",
       "      <td>23.704623</td>\n",
       "      <td>18.333151</td>\n",
       "    </tr>\n",
       "    <tr>\n",
       "      <th>23</th>\n",
       "      <td>7.962213</td>\n",
       "      <td>16.517808</td>\n",
       "    </tr>\n",
       "    <tr>\n",
       "      <th>24</th>\n",
       "      <td>16.135620</td>\n",
       "      <td>18.964575</td>\n",
       "    </tr>\n",
       "    <tr>\n",
       "      <th>25</th>\n",
       "      <td>13.774571</td>\n",
       "      <td>18.885647</td>\n",
       "    </tr>\n",
       "    <tr>\n",
       "      <th>26</th>\n",
       "      <td>45.539238</td>\n",
       "      <td>19.517070</td>\n",
       "    </tr>\n",
       "    <tr>\n",
       "      <th>27</th>\n",
       "      <td>7.962550</td>\n",
       "      <td>19.359214</td>\n",
       "    </tr>\n",
       "    <tr>\n",
       "      <th>28</th>\n",
       "      <td>4.744522</td>\n",
       "      <td>15.570672</td>\n",
       "    </tr>\n",
       "    <tr>\n",
       "      <th>29</th>\n",
       "      <td>35.091661</td>\n",
       "      <td>16.754592</td>\n",
       "    </tr>\n",
       "  </tbody>\n",
       "</table>\n",
       "</div>"
      ],
      "text/plain": [
       "       Actual  Predicted\n",
       "0   16.747235  18.806719\n",
       "1   26.869918  19.201359\n",
       "2   18.370941  18.885647\n",
       "3   12.834716  13.913185\n",
       "4    4.074963  18.964575\n",
       "5   20.400871  17.386015\n",
       "6   36.345735  18.806719\n",
       "7   26.530528  19.201359\n",
       "8   40.750723  14.623536\n",
       "9    9.757987  13.913185\n",
       "10   7.767704  18.727791\n",
       "11  13.885182  16.517808\n",
       "12  14.244209  18.096367\n",
       "13  14.408779  16.833520\n",
       "14  24.074086  19.595998\n",
       "15  22.035029  17.859583\n",
       "16  27.702913  19.359214\n",
       "17   4.004690  18.096367\n",
       "18  20.110918  18.964575\n",
       "19  21.652249  14.702464\n",
       "20  14.856281  13.913185\n",
       "21  21.446370  19.280287\n",
       "22  23.704623  18.333151\n",
       "23   7.962213  16.517808\n",
       "24  16.135620  18.964575\n",
       "25  13.774571  18.885647\n",
       "26  45.539238  19.517070\n",
       "27   7.962550  19.359214\n",
       "28   4.744522  15.570672\n",
       "29  35.091661  16.754592"
      ]
     },
     "execution_count": 59,
     "metadata": {},
     "output_type": "execute_result"
    }
   ],
   "source": [
    "# Create a dataframe comparing the actual and predicted values of y.\n",
    "\n",
    "data_incidents = pd.DataFrame({'Actual': y1_test.flatten(), 'Predicted': y1_predicted.flatten()})\n",
    "data_incidents.head(30)"
   ]
  },
  {
   "cell_type": "markdown",
   "id": "073aaba2",
   "metadata": {},
   "source": [
    "#### n_killed (y2)"
   ]
  },
  {
   "cell_type": "code",
   "execution_count": 66,
   "id": "40b75c77",
   "metadata": {
    "scrolled": true
   },
   "outputs": [
    {
     "data": {
      "text/html": [
       "<div>\n",
       "<style scoped>\n",
       "    .dataframe tbody tr th:only-of-type {\n",
       "        vertical-align: middle;\n",
       "    }\n",
       "\n",
       "    .dataframe tbody tr th {\n",
       "        vertical-align: top;\n",
       "    }\n",
       "\n",
       "    .dataframe thead th {\n",
       "        text-align: right;\n",
       "    }\n",
       "</style>\n",
       "<table border=\"1\" class=\"dataframe\">\n",
       "  <thead>\n",
       "    <tr style=\"text-align: right;\">\n",
       "      <th></th>\n",
       "      <th>Actual</th>\n",
       "      <th>Predicted</th>\n",
       "    </tr>\n",
       "  </thead>\n",
       "  <tbody>\n",
       "    <tr>\n",
       "      <th>0</th>\n",
       "      <td>3.736225</td>\n",
       "      <td>4.401177</td>\n",
       "    </tr>\n",
       "    <tr>\n",
       "      <th>1</th>\n",
       "      <td>8.916242</td>\n",
       "      <td>4.566041</td>\n",
       "    </tr>\n",
       "    <tr>\n",
       "      <th>2</th>\n",
       "      <td>1.425332</td>\n",
       "      <td>4.434150</td>\n",
       "    </tr>\n",
       "    <tr>\n",
       "      <th>3</th>\n",
       "      <td>2.117067</td>\n",
       "      <td>2.356859</td>\n",
       "    </tr>\n",
       "    <tr>\n",
       "      <th>4</th>\n",
       "      <td>1.861403</td>\n",
       "      <td>4.467123</td>\n",
       "    </tr>\n",
       "    <tr>\n",
       "      <th>5</th>\n",
       "      <td>5.418981</td>\n",
       "      <td>3.807665</td>\n",
       "    </tr>\n",
       "    <tr>\n",
       "      <th>6</th>\n",
       "      <td>8.341990</td>\n",
       "      <td>4.401177</td>\n",
       "    </tr>\n",
       "    <tr>\n",
       "      <th>7</th>\n",
       "      <td>7.031878</td>\n",
       "      <td>4.566041</td>\n",
       "    </tr>\n",
       "    <tr>\n",
       "      <th>8</th>\n",
       "      <td>7.679297</td>\n",
       "      <td>2.653615</td>\n",
       "    </tr>\n",
       "    <tr>\n",
       "      <th>9</th>\n",
       "      <td>2.035691</td>\n",
       "      <td>2.356859</td>\n",
       "    </tr>\n",
       "    <tr>\n",
       "      <th>10</th>\n",
       "      <td>2.427408</td>\n",
       "      <td>4.368204</td>\n",
       "    </tr>\n",
       "    <tr>\n",
       "      <th>11</th>\n",
       "      <td>2.957168</td>\n",
       "      <td>3.444964</td>\n",
       "    </tr>\n",
       "    <tr>\n",
       "      <th>12</th>\n",
       "      <td>3.864789</td>\n",
       "      <td>4.104421</td>\n",
       "    </tr>\n",
       "    <tr>\n",
       "      <th>13</th>\n",
       "      <td>4.091481</td>\n",
       "      <td>3.576855</td>\n",
       "    </tr>\n",
       "    <tr>\n",
       "      <th>14</th>\n",
       "      <td>8.121817</td>\n",
       "      <td>4.730906</td>\n",
       "    </tr>\n",
       "    <tr>\n",
       "      <th>15</th>\n",
       "      <td>2.669773</td>\n",
       "      <td>4.005503</td>\n",
       "    </tr>\n",
       "    <tr>\n",
       "      <th>16</th>\n",
       "      <td>2.645002</td>\n",
       "      <td>4.631987</td>\n",
       "    </tr>\n",
       "    <tr>\n",
       "      <th>17</th>\n",
       "      <td>2.200776</td>\n",
       "      <td>4.104421</td>\n",
       "    </tr>\n",
       "    <tr>\n",
       "      <th>18</th>\n",
       "      <td>6.149203</td>\n",
       "      <td>4.467123</td>\n",
       "    </tr>\n",
       "    <tr>\n",
       "      <th>19</th>\n",
       "      <td>6.812701</td>\n",
       "      <td>2.686588</td>\n",
       "    </tr>\n",
       "    <tr>\n",
       "      <th>20</th>\n",
       "      <td>2.369431</td>\n",
       "      <td>2.356859</td>\n",
       "    </tr>\n",
       "    <tr>\n",
       "      <th>21</th>\n",
       "      <td>5.509353</td>\n",
       "      <td>4.599014</td>\n",
       "    </tr>\n",
       "    <tr>\n",
       "      <th>22</th>\n",
       "      <td>5.881598</td>\n",
       "      <td>4.203340</td>\n",
       "    </tr>\n",
       "    <tr>\n",
       "      <th>23</th>\n",
       "      <td>2.388664</td>\n",
       "      <td>3.444964</td>\n",
       "    </tr>\n",
       "    <tr>\n",
       "      <th>24</th>\n",
       "      <td>4.538143</td>\n",
       "      <td>4.467123</td>\n",
       "    </tr>\n",
       "    <tr>\n",
       "      <th>25</th>\n",
       "      <td>1.655959</td>\n",
       "      <td>4.434150</td>\n",
       "    </tr>\n",
       "    <tr>\n",
       "      <th>26</th>\n",
       "      <td>9.912326</td>\n",
       "      <td>4.697933</td>\n",
       "    </tr>\n",
       "    <tr>\n",
       "      <th>27</th>\n",
       "      <td>2.146426</td>\n",
       "      <td>4.631987</td>\n",
       "    </tr>\n",
       "    <tr>\n",
       "      <th>28</th>\n",
       "      <td>0.474452</td>\n",
       "      <td>3.049289</td>\n",
       "    </tr>\n",
       "    <tr>\n",
       "      <th>29</th>\n",
       "      <td>4.493444</td>\n",
       "      <td>3.543882</td>\n",
       "    </tr>\n",
       "  </tbody>\n",
       "</table>\n",
       "</div>"
      ],
      "text/plain": [
       "      Actual  Predicted\n",
       "0   3.736225   4.401177\n",
       "1   8.916242   4.566041\n",
       "2   1.425332   4.434150\n",
       "3   2.117067   2.356859\n",
       "4   1.861403   4.467123\n",
       "5   5.418981   3.807665\n",
       "6   8.341990   4.401177\n",
       "7   7.031878   4.566041\n",
       "8   7.679297   2.653615\n",
       "9   2.035691   2.356859\n",
       "10  2.427408   4.368204\n",
       "11  2.957168   3.444964\n",
       "12  3.864789   4.104421\n",
       "13  4.091481   3.576855\n",
       "14  8.121817   4.730906\n",
       "15  2.669773   4.005503\n",
       "16  2.645002   4.631987\n",
       "17  2.200776   4.104421\n",
       "18  6.149203   4.467123\n",
       "19  6.812701   2.686588\n",
       "20  2.369431   2.356859\n",
       "21  5.509353   4.599014\n",
       "22  5.881598   4.203340\n",
       "23  2.388664   3.444964\n",
       "24  4.538143   4.467123\n",
       "25  1.655959   4.434150\n",
       "26  9.912326   4.697933\n",
       "27  2.146426   4.631987\n",
       "28  0.474452   3.049289\n",
       "29  4.493444   3.543882"
      ]
     },
     "execution_count": 66,
     "metadata": {},
     "output_type": "execute_result"
    }
   ],
   "source": [
    "# Create a dataframe comparing the actual and predicted values of y.\n",
    "\n",
    "data_killed = pd.DataFrame({'Actual': y2_test.flatten(), 'Predicted': y2_predicted.flatten()})\n",
    "data_killed.head(30)"
   ]
  },
  {
   "cell_type": "markdown",
   "id": "941338e1",
   "metadata": {},
   "source": [
    "#### n_injured (y3)"
   ]
  },
  {
   "cell_type": "code",
   "execution_count": 74,
   "id": "d9e41795",
   "metadata": {
    "scrolled": true
   },
   "outputs": [
    {
     "data": {
      "text/html": [
       "<div>\n",
       "<style scoped>\n",
       "    .dataframe tbody tr th:only-of-type {\n",
       "        vertical-align: middle;\n",
       "    }\n",
       "\n",
       "    .dataframe tbody tr th {\n",
       "        vertical-align: top;\n",
       "    }\n",
       "\n",
       "    .dataframe thead th {\n",
       "        text-align: right;\n",
       "    }\n",
       "</style>\n",
       "<table border=\"1\" class=\"dataframe\">\n",
       "  <thead>\n",
       "    <tr style=\"text-align: right;\">\n",
       "      <th></th>\n",
       "      <th>Actual</th>\n",
       "      <th>Predicted</th>\n",
       "    </tr>\n",
       "  </thead>\n",
       "  <tbody>\n",
       "    <tr>\n",
       "      <th>0</th>\n",
       "      <td>7.604007</td>\n",
       "      <td>7.683048</td>\n",
       "    </tr>\n",
       "    <tr>\n",
       "      <th>1</th>\n",
       "      <td>14.577623</td>\n",
       "      <td>7.771382</td>\n",
       "    </tr>\n",
       "    <tr>\n",
       "      <th>2</th>\n",
       "      <td>2.929848</td>\n",
       "      <td>7.700714</td>\n",
       "    </tr>\n",
       "    <tr>\n",
       "      <th>3</th>\n",
       "      <td>6.488605</td>\n",
       "      <td>6.587701</td>\n",
       "    </tr>\n",
       "    <tr>\n",
       "      <th>4</th>\n",
       "      <td>1.207397</td>\n",
       "      <td>7.718381</td>\n",
       "    </tr>\n",
       "    <tr>\n",
       "      <th>5</th>\n",
       "      <td>12.047066</td>\n",
       "      <td>7.365044</td>\n",
       "    </tr>\n",
       "    <tr>\n",
       "      <th>6</th>\n",
       "      <td>16.705100</td>\n",
       "      <td>7.683048</td>\n",
       "    </tr>\n",
       "    <tr>\n",
       "      <th>7</th>\n",
       "      <td>13.342537</td>\n",
       "      <td>7.771382</td>\n",
       "    </tr>\n",
       "    <tr>\n",
       "      <th>8</th>\n",
       "      <td>29.059614</td>\n",
       "      <td>6.746703</td>\n",
       "    </tr>\n",
       "    <tr>\n",
       "      <th>9</th>\n",
       "      <td>4.948217</td>\n",
       "      <td>6.587701</td>\n",
       "    </tr>\n",
       "    <tr>\n",
       "      <th>10</th>\n",
       "      <td>3.814498</td>\n",
       "      <td>7.665381</td>\n",
       "    </tr>\n",
       "    <tr>\n",
       "      <th>11</th>\n",
       "      <td>4.548335</td>\n",
       "      <td>7.170708</td>\n",
       "    </tr>\n",
       "    <tr>\n",
       "      <th>12</th>\n",
       "      <td>8.075209</td>\n",
       "      <td>7.524046</td>\n",
       "    </tr>\n",
       "    <tr>\n",
       "      <th>13</th>\n",
       "      <td>8.569559</td>\n",
       "      <td>7.241375</td>\n",
       "    </tr>\n",
       "    <tr>\n",
       "      <th>14</th>\n",
       "      <td>12.164515</td>\n",
       "      <td>7.859716</td>\n",
       "    </tr>\n",
       "    <tr>\n",
       "      <th>15</th>\n",
       "      <td>8.610958</td>\n",
       "      <td>7.471045</td>\n",
       "    </tr>\n",
       "    <tr>\n",
       "      <th>16</th>\n",
       "      <td>2.923423</td>\n",
       "      <td>7.806716</td>\n",
       "    </tr>\n",
       "    <tr>\n",
       "      <th>17</th>\n",
       "      <td>2.020384</td>\n",
       "      <td>7.524046</td>\n",
       "    </tr>\n",
       "    <tr>\n",
       "      <th>18</th>\n",
       "      <td>6.703639</td>\n",
       "      <td>7.718381</td>\n",
       "    </tr>\n",
       "    <tr>\n",
       "      <th>19</th>\n",
       "      <td>13.203825</td>\n",
       "      <td>6.764370</td>\n",
       "    </tr>\n",
       "    <tr>\n",
       "      <th>20</th>\n",
       "      <td>7.783811</td>\n",
       "      <td>6.587701</td>\n",
       "    </tr>\n",
       "    <tr>\n",
       "      <th>21</th>\n",
       "      <td>8.622876</td>\n",
       "      <td>7.789049</td>\n",
       "    </tr>\n",
       "    <tr>\n",
       "      <th>22</th>\n",
       "      <td>10.396764</td>\n",
       "      <td>7.577046</td>\n",
       "    </tr>\n",
       "    <tr>\n",
       "      <th>23</th>\n",
       "      <td>3.010105</td>\n",
       "      <td>7.170708</td>\n",
       "    </tr>\n",
       "    <tr>\n",
       "      <th>24</th>\n",
       "      <td>4.134753</td>\n",
       "      <td>7.718381</td>\n",
       "    </tr>\n",
       "    <tr>\n",
       "      <th>25</th>\n",
       "      <td>1.881772</td>\n",
       "      <td>7.700714</td>\n",
       "    </tr>\n",
       "    <tr>\n",
       "      <th>26</th>\n",
       "      <td>10.055983</td>\n",
       "      <td>7.842049</td>\n",
       "    </tr>\n",
       "    <tr>\n",
       "      <th>27</th>\n",
       "      <td>1.800229</td>\n",
       "      <td>7.806716</td>\n",
       "    </tr>\n",
       "    <tr>\n",
       "      <th>28</th>\n",
       "      <td>1.233576</td>\n",
       "      <td>6.958705</td>\n",
       "    </tr>\n",
       "    <tr>\n",
       "      <th>29</th>\n",
       "      <td>20.006526</td>\n",
       "      <td>7.223709</td>\n",
       "    </tr>\n",
       "  </tbody>\n",
       "</table>\n",
       "</div>"
      ],
      "text/plain": [
       "       Actual  Predicted\n",
       "0    7.604007   7.683048\n",
       "1   14.577623   7.771382\n",
       "2    2.929848   7.700714\n",
       "3    6.488605   6.587701\n",
       "4    1.207397   7.718381\n",
       "5   12.047066   7.365044\n",
       "6   16.705100   7.683048\n",
       "7   13.342537   7.771382\n",
       "8   29.059614   6.746703\n",
       "9    4.948217   6.587701\n",
       "10   3.814498   7.665381\n",
       "11   4.548335   7.170708\n",
       "12   8.075209   7.524046\n",
       "13   8.569559   7.241375\n",
       "14  12.164515   7.859716\n",
       "15   8.610958   7.471045\n",
       "16   2.923423   7.806716\n",
       "17   2.020384   7.524046\n",
       "18   6.703639   7.718381\n",
       "19  13.203825   6.764370\n",
       "20   7.783811   6.587701\n",
       "21   8.622876   7.789049\n",
       "22  10.396764   7.577046\n",
       "23   3.010105   7.170708\n",
       "24   4.134753   7.718381\n",
       "25   1.881772   7.700714\n",
       "26  10.055983   7.842049\n",
       "27   1.800229   7.806716\n",
       "28   1.233576   6.958705\n",
       "29  20.006526   7.223709"
      ]
     },
     "execution_count": 74,
     "metadata": {},
     "output_type": "execute_result"
    }
   ],
   "source": [
    "# Create a dataframe comparing the actual and predicted values of y.\n",
    "\n",
    "data_injured = pd.DataFrame({'Actual': y3_test.flatten(), 'Predicted': y3_predicted.flatten()})\n",
    "data_injured.head(30)"
   ]
  },
  {
   "cell_type": "markdown",
   "id": "db2ec2b5",
   "metadata": {},
   "source": [
    "#### n_guns (y4)"
   ]
  },
  {
   "cell_type": "code",
   "execution_count": 83,
   "id": "5b28bd64",
   "metadata": {
    "scrolled": true
   },
   "outputs": [
    {
     "data": {
      "text/html": [
       "<div>\n",
       "<style scoped>\n",
       "    .dataframe tbody tr th:only-of-type {\n",
       "        vertical-align: middle;\n",
       "    }\n",
       "\n",
       "    .dataframe tbody tr th {\n",
       "        vertical-align: top;\n",
       "    }\n",
       "\n",
       "    .dataframe thead th {\n",
       "        text-align: right;\n",
       "    }\n",
       "</style>\n",
       "<table border=\"1\" class=\"dataframe\">\n",
       "  <thead>\n",
       "    <tr style=\"text-align: right;\">\n",
       "      <th></th>\n",
       "      <th>Actual</th>\n",
       "      <th>Predicted</th>\n",
       "    </tr>\n",
       "  </thead>\n",
       "  <tbody>\n",
       "    <tr>\n",
       "      <th>0</th>\n",
       "      <td>22.632628</td>\n",
       "      <td>25.503295</td>\n",
       "    </tr>\n",
       "    <tr>\n",
       "      <th>1</th>\n",
       "      <td>33.968590</td>\n",
       "      <td>26.023321</td>\n",
       "    </tr>\n",
       "    <tr>\n",
       "      <th>2</th>\n",
       "      <td>28.088451</td>\n",
       "      <td>25.607300</td>\n",
       "    </tr>\n",
       "    <tr>\n",
       "      <th>3</th>\n",
       "      <td>19.975836</td>\n",
       "      <td>19.054976</td>\n",
       "    </tr>\n",
       "    <tr>\n",
       "      <th>4</th>\n",
       "      <td>4.678661</td>\n",
       "      <td>25.711306</td>\n",
       "    </tr>\n",
       "    <tr>\n",
       "      <th>5</th>\n",
       "      <td>29.725881</td>\n",
       "      <td>23.631203</td>\n",
       "    </tr>\n",
       "    <tr>\n",
       "      <th>6</th>\n",
       "      <td>44.167617</td>\n",
       "      <td>25.503295</td>\n",
       "    </tr>\n",
       "    <tr>\n",
       "      <th>7</th>\n",
       "      <td>36.225052</td>\n",
       "      <td>26.023321</td>\n",
       "    </tr>\n",
       "    <tr>\n",
       "      <th>8</th>\n",
       "      <td>44.996635</td>\n",
       "      <td>19.991023</td>\n",
       "    </tr>\n",
       "    <tr>\n",
       "      <th>9</th>\n",
       "      <td>13.944995</td>\n",
       "      <td>19.054976</td>\n",
       "    </tr>\n",
       "    <tr>\n",
       "      <th>10</th>\n",
       "      <td>8.439487</td>\n",
       "      <td>25.399290</td>\n",
       "    </tr>\n",
       "    <tr>\n",
       "      <th>11</th>\n",
       "      <td>23.092170</td>\n",
       "      <td>22.487146</td>\n",
       "    </tr>\n",
       "    <tr>\n",
       "      <th>12</th>\n",
       "      <td>17.474004</td>\n",
       "      <td>24.567249</td>\n",
       "    </tr>\n",
       "    <tr>\n",
       "      <th>13</th>\n",
       "      <td>21.687811</td>\n",
       "      <td>22.903167</td>\n",
       "    </tr>\n",
       "    <tr>\n",
       "      <th>14</th>\n",
       "      <td>34.219703</td>\n",
       "      <td>26.543347</td>\n",
       "    </tr>\n",
       "    <tr>\n",
       "      <th>15</th>\n",
       "      <td>28.690661</td>\n",
       "      <td>24.255233</td>\n",
       "    </tr>\n",
       "    <tr>\n",
       "      <th>16</th>\n",
       "      <td>38.195558</td>\n",
       "      <td>26.231331</td>\n",
       "    </tr>\n",
       "    <tr>\n",
       "      <th>17</th>\n",
       "      <td>4.581943</td>\n",
       "      <td>24.567249</td>\n",
       "    </tr>\n",
       "    <tr>\n",
       "      <th>18</th>\n",
       "      <td>25.515346</td>\n",
       "      <td>25.711306</td>\n",
       "    </tr>\n",
       "    <tr>\n",
       "      <th>19</th>\n",
       "      <td>42.128605</td>\n",
       "      <td>20.095028</td>\n",
       "    </tr>\n",
       "    <tr>\n",
       "      <th>20</th>\n",
       "      <td>20.823843</td>\n",
       "      <td>19.054976</td>\n",
       "    </tr>\n",
       "    <tr>\n",
       "      <th>21</th>\n",
       "      <td>28.862303</td>\n",
       "      <td>26.127326</td>\n",
       "    </tr>\n",
       "    <tr>\n",
       "      <th>22</th>\n",
       "      <td>31.004442</td>\n",
       "      <td>24.879264</td>\n",
       "    </tr>\n",
       "    <tr>\n",
       "      <th>23</th>\n",
       "      <td>11.080385</td>\n",
       "      <td>22.487146</td>\n",
       "    </tr>\n",
       "    <tr>\n",
       "      <th>24</th>\n",
       "      <td>25.263769</td>\n",
       "      <td>25.711306</td>\n",
       "    </tr>\n",
       "    <tr>\n",
       "      <th>25</th>\n",
       "      <td>20.341104</td>\n",
       "      <td>25.607300</td>\n",
       "    </tr>\n",
       "    <tr>\n",
       "      <th>26</th>\n",
       "      <td>61.054183</td>\n",
       "      <td>26.439342</td>\n",
       "    </tr>\n",
       "    <tr>\n",
       "      <th>27</th>\n",
       "      <td>11.410357</td>\n",
       "      <td>26.231331</td>\n",
       "    </tr>\n",
       "    <tr>\n",
       "      <th>28</th>\n",
       "      <td>5.788317</td>\n",
       "      <td>21.239084</td>\n",
       "    </tr>\n",
       "    <tr>\n",
       "      <th>29</th>\n",
       "      <td>50.559345</td>\n",
       "      <td>22.799161</td>\n",
       "    </tr>\n",
       "  </tbody>\n",
       "</table>\n",
       "</div>"
      ],
      "text/plain": [
       "       Actual  Predicted\n",
       "0   22.632628  25.503295\n",
       "1   33.968590  26.023321\n",
       "2   28.088451  25.607300\n",
       "3   19.975836  19.054976\n",
       "4    4.678661  25.711306\n",
       "5   29.725881  23.631203\n",
       "6   44.167617  25.503295\n",
       "7   36.225052  26.023321\n",
       "8   44.996635  19.991023\n",
       "9   13.944995  19.054976\n",
       "10   8.439487  25.399290\n",
       "11  23.092170  22.487146\n",
       "12  17.474004  24.567249\n",
       "13  21.687811  22.903167\n",
       "14  34.219703  26.543347\n",
       "15  28.690661  24.255233\n",
       "16  38.195558  26.231331\n",
       "17   4.581943  24.567249\n",
       "18  25.515346  25.711306\n",
       "19  42.128605  20.095028\n",
       "20  20.823843  19.054976\n",
       "21  28.862303  26.127326\n",
       "22  31.004442  24.879264\n",
       "23  11.080385  22.487146\n",
       "24  25.263769  25.711306\n",
       "25  20.341104  25.607300\n",
       "26  61.054183  26.439342\n",
       "27  11.410357  26.231331\n",
       "28   5.788317  21.239084\n",
       "29  50.559345  22.799161"
      ]
     },
     "execution_count": 83,
     "metadata": {},
     "output_type": "execute_result"
    }
   ],
   "source": [
    "# Create a dataframe comparing the actual and predicted values of y.\n",
    "\n",
    "data_guns = pd.DataFrame({'Actual': y4_test.flatten(), 'Predicted': y4_predicted.flatten()})\n",
    "data_guns.head(30)"
   ]
  },
  {
   "cell_type": "markdown",
   "id": "b130d502",
   "metadata": {},
   "source": [
    "#### 13: Include your thoughts on how well the model performed on the test set in a markdown cell.\n",
    "\n",
    "- Include any reflections you have on the impact of possible data bias."
   ]
  },
  {
   "cell_type": "markdown",
   "id": "c19fe898",
   "metadata": {},
   "source": [
    "#### In all for cases the model performes poorly. This may have to do with the low sample size since it is aggregated, or I need some kind of categories for the laws (higly restricting, low restricting etc.) - but for the sample size I would need at least 50 or more years and for the categories I would need a lot more knowledge about law. \n",
    "\n",
    "#### At this point I can assume my hypotheses are disproven, which in this case just means that just the number of laws (without looking at the laws itself) doesn't affect the amount of incidents, killed, injured and number of guns used.\n",
    "\n",
    "#### I tested everyting without aggregating, even tho it doesn't make sense to do so and got similiar results."
   ]
  },
  {
   "cell_type": "code",
   "execution_count": null,
   "id": "4c2a969d",
   "metadata": {},
   "outputs": [],
   "source": []
  }
 ],
 "metadata": {
  "kernelspec": {
   "display_name": "Python 3 (ipykernel)",
   "language": "python",
   "name": "python3"
  },
  "language_info": {
   "codemirror_mode": {
    "name": "ipython",
    "version": 3
   },
   "file_extension": ".py",
   "mimetype": "text/x-python",
   "name": "python",
   "nbconvert_exporter": "python",
   "pygments_lexer": "ipython3",
   "version": "3.11.5"
  }
 },
 "nbformat": 4,
 "nbformat_minor": 5
}
